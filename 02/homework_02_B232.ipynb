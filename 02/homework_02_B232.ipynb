{
 "cells": [
  {
   "cell_type": "markdown",
   "metadata": {},
   "source": [
    "# Úkol č. 2 - Využití neuronových sítí\n",
    "\n",
    "  * **Deadline je 13. 5. 2024, 23:59:59**, pokud odevzdáte úkol do 20. 5. 2024, 23:59:59, budete penalizování -12 body, pozdější odevzdání je bez bodu.\n",
    "  * V rámci tohoto úkolu musíte sestrojit vhodný model neuronové sítě pro vícetřídou klasifikaci.\n",
    "  * Část bodů získáte za správné vypracování a část bodů získáte za výslednou přesnost Vašeho modelu na evaluačních datech.\n",
    "    \n",
    "> **Úkoly jsou zadány tak, aby Vám daly prostor pro invenci. Vymyslet _jak přesně_ budete úkol řešit, je důležitou součástí zadání a originalita či nápaditost bude také hodnocena!**\n",
    "\n",
    "Využívejte buňky typu `Markdown` k vysvětlování Vašeho postupu. Za nepřehlednost budou strhávány body.\n",
    "\n",
    "## Zdroj dat\n",
    "\n",
    " * Zdrojem dat jsou soubory `train.csv` a `evaluate.csv`.\n",
    " * Jedná se o obrázky 32x32 pixelů ve stupních šedi, které byly nějakým způsobem vyrobeny z [Fashion Mnist datasetu](https://www.kaggle.com/datasets/zalando-research/fashionmnist).\n",
    " * Soubor `train.csv` obsahuje trénovací data.\n",
    " * Cílová (vysvětlovaná) proměnná se jmenuje **label**.\n",
    " * Soubor `evaluate.csv` obsahuje testovací data bez hodnot skutečných labelů.\n",
    "\n",
    "## Pokyny k vypracování (max 18 bodů)\n",
    "\n",
    "**Body zadání**, za jejichž (poctivé) vypracování získáte **18 bodů**:\n",
    "  * V notebooku načtěte data ze souboru `train.csv`. Vhodným způsobem si je rozdělte na podmnožiny, které Vám poslouží pro trénování, porovnávání modelů a následnou predikci výkonnosti finálního modelu.\n",
    "  * Proveďte základní průzkum dat a svá pozorování diskutujte. Některé obrázky také zobrazte.\n",
    "  * Sestrojte a natrénujte několik variant modelu dopředné neuronové sítě. Přitom v rámci výpočetních možností:\n",
    "      * Okomentujte vhodnost daného modelu pro daný typ úlohy.\n",
    "      * Experimentujte s různými hloubkami a velikosmi vrstev.\n",
    "      * Experimentujte se standardizací/normalizací dat.\n",
    "      * Experimentujte s různými optimalizačními metodami.\n",
    "      * Experimentujte s různými regularizačními technikami.\n",
    "      * Získané výsledky vždy řádně okomentujte.\n",
    "\n",
    "  * Sestrojte model konvoluční neuronové sítě. Přitom v rámci výpočetních možností:\n",
    "      * Okomentujte vhodnost daného modelu pro daný typ úlohy.\n",
    "      * Experimentujte s různými hloubkami a velikosmi vrstev.\n",
    "      * Experimentujte se standardizací/normalizací dat.\n",
    "      * Experimentujte s různými optimalizačními metodami.\n",
    "      * Experimentujte s různými regularizačními technikami.\n",
    "      * Získané výsledky vždy řádně okomentujte.\n",
    "    \n",
    "  * Ze všech zkoušených možností vyberte finální model a odhadněte, jakou přesnost můžete očekávat na nových datech, která jste doposud neměli k dispozici.\n",
    "  \n",
    "  * Nakonec načtěte vyhodnocovací data ze souboru`evaluate.csv`. Pomocí finálního modelu napočítejte predikce pro tyto data (vysvětlovaná proměnná v nich již není). Vytvořte soubor `results.csv`, ve kterém získané predikce uložíte do sloupce **label** a identifikátory do sloupce **ID**. Tento soubor též odevzdejte (uložte do projektu vedle notebooku).\n",
    "   \n",
    "   * Ukázka prvních řádků souboru `results.csv`:\n",
    "  \n",
    "```\n",
    "ID,label\n",
    "0,0\n",
    "1,1\n",
    "...\n",
    "```\n",
    "\n",
    "## Vyhodnocovací část (max 7 bodů)\n",
    "Za přesnost (accuraccy) na odevzdaných predikcích pro vyhodnocovací množnu získáte dalších max **7 bodů**.\n",
    "\n",
    "Označíme-li $A$ přesnost, které jste dosáhli, zaokrouhlenou na 2 desetinná místa, akumulují se výsledné body podle následujících pravidel:\n",
    "* pokud $A \\geq 0.80$ obdržíte +1 bod\n",
    "* pokud $A \\geq 0.83$ obdržíte +1 bod\n",
    "* pokud $A \\geq 0.86$ obdržíte +1 bod\n",
    "* pokud $A \\geq 0.87$ obdržíte +1 bod\n",
    "* pokud $A \\geq 0.88$ obdržíte +1 bod\n",
    "* pokud $A \\geq 0.89$ obdržíte +1 bod\n",
    "* pokud $A \\geq 0.90$ obdržíte +1 bod\n",
    "\n",
    "**Příklad:** Pokud bude Vaše přesnost 0.856, vyjde A = 0.86 a vy získáte 3 body.\n",
    "\n",
    "\n",
    "## Poznámky k odevzdání\n",
    "\n",
    "  * Řiďte se pokyny ze stránky https://courses.fit.cvut.cz/BI-ML2/homeworks/index.html.\n",
    "  * Vytvořte i csv soubor `results.csv` s predikcemi a uložte ho v rámci projektu vedle ipython notebooku."
   ]
  },
  {
   "cell_type": "code",
   "execution_count": 8,
   "metadata": {
    "ExecuteTime": {
     "end_time": "2024-05-01T10:07:38.097946Z",
     "start_time": "2024-05-01T10:07:38.094962Z"
    }
   },
   "outputs": [],
   "source": [
    "import pandas as pd\n",
    "import numpy as np\n",
    "from IPython.display import display\n",
    "from sklearn.model_selection import train_test_split\n",
    "import sklearn.metrics as metrics\n",
    "from sklearn.preprocessing import StandardScaler, MinMaxScaler\n",
    "import torch\n",
    "from torch.utils.data import DataLoader\n",
    "import random\n",
    "\n",
    "import matplotlib.pyplot as plt"
   ]
  },
  {
   "cell_type": "code",
   "outputs": [
    {
     "name": "stdout",
     "output_type": "stream",
     "text": [
      "CUDA Available:  True\n",
      "cuDNN Enabled:  True\n",
      "cuDNN Version:  8700\n"
     ]
    }
   ],
   "source": [
    "random_seed = 42\n",
    "torch.manual_seed(random_seed)\n",
    "np.random.seed(random_seed)\n",
    "\n",
    "print(\"CUDA Available: \", torch.cuda.is_available())\n",
    "print(\"cuDNN Enabled: \", torch.backends.cudnn.enabled)\n",
    "print(\"cuDNN Version: \", torch.backends.cudnn.version())\n",
    "\n",
    "# set up to use deterministic algorithms, so we have consistent results\n",
    "torch.backends.cudnn.deterministic = True"
   ],
   "metadata": {
    "collapsed": false,
    "ExecuteTime": {
     "end_time": "2024-05-01T10:14:13.334742Z",
     "start_time": "2024-05-01T10:14:13.330425Z"
    }
   },
   "execution_count": 16
  },
  {
   "cell_type": "markdown",
   "source": [
    "# Data Exploration"
   ],
   "metadata": {
    "collapsed": false
   }
  },
  {
   "cell_type": "markdown",
   "source": [
    "We will explore our data. We know that we have images in shades of grey (meaning we have only one channel). Images size is $32 \\times 32$. Each image is represented as a row of pixels with label value."
   ],
   "metadata": {
    "collapsed": false
   }
  },
  {
   "cell_type": "code",
   "outputs": [],
   "source": [
    "df_data = pd.read_csv('train.csv')"
   ],
   "metadata": {
    "collapsed": false,
    "ExecuteTime": {
     "end_time": "2024-05-01T10:12:20.497452Z",
     "start_time": "2024-05-01T10:12:15.683625Z"
    }
   },
   "execution_count": 14
  },
  {
   "cell_type": "code",
   "outputs": [
    {
     "name": "stdout",
     "output_type": "stream",
     "text": [
      "Data shape: (52500, 1025)\n",
      "Images data shape: (52500, 1024)\n",
      "Train shape: (31500, 1024)\n",
      "Validation shape: (21000, 1024)\n"
     ]
    }
   ],
   "source": [
    "def split_data(data):\n",
    "    print(f'Data shape: {data.shape}')\n",
    "    labels = data['label']\n",
    "    images = data.drop('label', axis=1)\n",
    "    print(f'Images data shape: {images.shape}')\n",
    "    X_train, X_val, y_train, y_val = train_test_split(images, labels, test_size=0.4, random_state=random_seed)\n",
    "    print(f\"Train shape: {X_train.shape}\")\n",
    "    print(f\"Validation shape: {X_val.shape}\")\n",
    "    return X_train, X_val, y_train, y_val\n",
    "\n",
    "\n",
    "X_train, X_val, y_train, y_val = split_data(df_data)"
   ],
   "metadata": {
    "collapsed": false,
    "ExecuteTime": {
     "end_time": "2024-05-01T10:12:22.051753Z",
     "start_time": "2024-05-01T10:12:21.574239Z"
    }
   },
   "execution_count": 15
  },
  {
   "cell_type": "markdown",
   "source": [
    "We have high dimensionality data - $1024$ dimensions. For neural networks high dimensionality is not a concern, but lack of data can be. Luckily, we have quite a lot of images - $52500$ in the whole dataset. "
   ],
   "metadata": {
    "collapsed": false
   }
  },
  {
   "cell_type": "code",
   "outputs": [
    {
     "data": {
      "text/plain": "       label  pix562  pix894  pix873  pix706  pix460\n2262       3     170       2       4       2     129\n25445      4     220       4       4       4     219\n46043      7      80       0       0       0     193\n12531      0     182       3     205       3     174\n10152      5      62       0       0       0     174",
      "text/html": "<div>\n<style scoped>\n    .dataframe tbody tr th:only-of-type {\n        vertical-align: middle;\n    }\n\n    .dataframe tbody tr th {\n        vertical-align: top;\n    }\n\n    .dataframe thead th {\n        text-align: right;\n    }\n</style>\n<table border=\"1\" class=\"dataframe\">\n  <thead>\n    <tr style=\"text-align: right;\">\n      <th></th>\n      <th>label</th>\n      <th>pix562</th>\n      <th>pix894</th>\n      <th>pix873</th>\n      <th>pix706</th>\n      <th>pix460</th>\n    </tr>\n  </thead>\n  <tbody>\n    <tr>\n      <th>2262</th>\n      <td>3</td>\n      <td>170</td>\n      <td>2</td>\n      <td>4</td>\n      <td>2</td>\n      <td>129</td>\n    </tr>\n    <tr>\n      <th>25445</th>\n      <td>4</td>\n      <td>220</td>\n      <td>4</td>\n      <td>4</td>\n      <td>4</td>\n      <td>219</td>\n    </tr>\n    <tr>\n      <th>46043</th>\n      <td>7</td>\n      <td>80</td>\n      <td>0</td>\n      <td>0</td>\n      <td>0</td>\n      <td>193</td>\n    </tr>\n    <tr>\n      <th>12531</th>\n      <td>0</td>\n      <td>182</td>\n      <td>3</td>\n      <td>205</td>\n      <td>3</td>\n      <td>174</td>\n    </tr>\n    <tr>\n      <th>10152</th>\n      <td>5</td>\n      <td>62</td>\n      <td>0</td>\n      <td>0</td>\n      <td>0</td>\n      <td>174</td>\n    </tr>\n  </tbody>\n</table>\n</div>"
     },
     "execution_count": 22,
     "metadata": {},
     "output_type": "execute_result"
    }
   ],
   "source": [
    "def explore_with_m_rd_columns(m=5):\n",
    "    data_train_df = pd.concat((y_train, X_train), axis=1)\n",
    "    random_indices = np.random.choice(range(1, data_train_df.shape[1]), m, replace=False)\n",
    "    selected_indices = np.append(0, random_indices)\n",
    "    selected_df = data_train_df.iloc[:, selected_indices]\n",
    "    return selected_df\n",
    "\n",
    "\n",
    "selection = explore_with_m_rd_columns(5)\n",
    "selection.head()"
   ],
   "metadata": {
    "collapsed": false,
    "ExecuteTime": {
     "end_time": "2024-05-01T10:22:02.967658Z",
     "start_time": "2024-05-01T10:22:02.911018Z"
    }
   },
   "execution_count": 22
  },
  {
   "cell_type": "code",
   "outputs": [
    {
     "data": {
      "text/plain": "              label        pix562        pix894        pix873        pix706  \\\ncount  31500.000000  31500.000000  31500.000000  31500.000000  31500.000000   \nmean       4.526444    151.077111      1.135968     28.741714      1.180095   \nstd        2.867504     68.671474      5.106792     56.495310      4.749549   \nmin        0.000000      0.000000      0.000000      0.000000      0.000000   \n25%        2.000000    105.000000      0.000000      0.000000      0.000000   \n50%        5.000000    167.000000      0.000000      1.000000      0.000000   \n75%        7.000000    205.000000      1.000000     23.000000      1.000000   \nmax        9.000000    255.000000    210.000000    255.000000    191.000000   \n\n             pix460  \ncount  31500.000000  \nmean     120.380794  \nstd       83.443700  \nmin        0.000000  \n25%       35.000000  \n50%      133.000000  \n75%      195.000000  \nmax      255.000000  ",
      "text/html": "<div>\n<style scoped>\n    .dataframe tbody tr th:only-of-type {\n        vertical-align: middle;\n    }\n\n    .dataframe tbody tr th {\n        vertical-align: top;\n    }\n\n    .dataframe thead th {\n        text-align: right;\n    }\n</style>\n<table border=\"1\" class=\"dataframe\">\n  <thead>\n    <tr style=\"text-align: right;\">\n      <th></th>\n      <th>label</th>\n      <th>pix562</th>\n      <th>pix894</th>\n      <th>pix873</th>\n      <th>pix706</th>\n      <th>pix460</th>\n    </tr>\n  </thead>\n  <tbody>\n    <tr>\n      <th>count</th>\n      <td>31500.000000</td>\n      <td>31500.000000</td>\n      <td>31500.000000</td>\n      <td>31500.000000</td>\n      <td>31500.000000</td>\n      <td>31500.000000</td>\n    </tr>\n    <tr>\n      <th>mean</th>\n      <td>4.526444</td>\n      <td>151.077111</td>\n      <td>1.135968</td>\n      <td>28.741714</td>\n      <td>1.180095</td>\n      <td>120.380794</td>\n    </tr>\n    <tr>\n      <th>std</th>\n      <td>2.867504</td>\n      <td>68.671474</td>\n      <td>5.106792</td>\n      <td>56.495310</td>\n      <td>4.749549</td>\n      <td>83.443700</td>\n    </tr>\n    <tr>\n      <th>min</th>\n      <td>0.000000</td>\n      <td>0.000000</td>\n      <td>0.000000</td>\n      <td>0.000000</td>\n      <td>0.000000</td>\n      <td>0.000000</td>\n    </tr>\n    <tr>\n      <th>25%</th>\n      <td>2.000000</td>\n      <td>105.000000</td>\n      <td>0.000000</td>\n      <td>0.000000</td>\n      <td>0.000000</td>\n      <td>35.000000</td>\n    </tr>\n    <tr>\n      <th>50%</th>\n      <td>5.000000</td>\n      <td>167.000000</td>\n      <td>0.000000</td>\n      <td>1.000000</td>\n      <td>0.000000</td>\n      <td>133.000000</td>\n    </tr>\n    <tr>\n      <th>75%</th>\n      <td>7.000000</td>\n      <td>205.000000</td>\n      <td>1.000000</td>\n      <td>23.000000</td>\n      <td>1.000000</td>\n      <td>195.000000</td>\n    </tr>\n    <tr>\n      <th>max</th>\n      <td>9.000000</td>\n      <td>255.000000</td>\n      <td>210.000000</td>\n      <td>255.000000</td>\n      <td>191.000000</td>\n      <td>255.000000</td>\n    </tr>\n  </tbody>\n</table>\n</div>"
     },
     "execution_count": 23,
     "metadata": {},
     "output_type": "execute_result"
    }
   ],
   "source": [
    "selection.describe()"
   ],
   "metadata": {
    "collapsed": false,
    "ExecuteTime": {
     "end_time": "2024-05-01T10:22:31.599895Z",
     "start_time": "2024-05-01T10:22:31.581500Z"
    }
   },
   "execution_count": 23
  },
  {
   "cell_type": "code",
   "outputs": [
    {
     "name": "stdout",
     "output_type": "stream",
     "text": [
      "<class 'pandas.core.frame.DataFrame'>\n",
      "Index: 31500 entries, 2262 to 15795\n",
      "Data columns (total 6 columns):\n",
      " #   Column  Non-Null Count  Dtype\n",
      "---  ------  --------------  -----\n",
      " 0   label   31500 non-null  int64\n",
      " 1   pix562  31500 non-null  int64\n",
      " 2   pix894  31500 non-null  int64\n",
      " 3   pix873  31500 non-null  int64\n",
      " 4   pix706  31500 non-null  int64\n",
      " 5   pix460  31500 non-null  int64\n",
      "dtypes: int64(6)\n",
      "memory usage: 1.7 MB\n"
     ]
    }
   ],
   "source": [
    "selection.info()"
   ],
   "metadata": {
    "collapsed": false,
    "ExecuteTime": {
     "end_time": "2024-05-01T10:22:52.304307Z",
     "start_time": "2024-05-01T10:22:52.277192Z"
    }
   },
   "execution_count": 24
  },
  {
   "cell_type": "code",
   "outputs": [
    {
     "data": {
      "text/plain": "array([0, 1, 2, 3, 4, 5, 6, 7, 8, 9])"
     },
     "execution_count": 28,
     "metadata": {},
     "output_type": "execute_result"
    }
   ],
   "source": [
    "np.sort(y_train.unique())"
   ],
   "metadata": {
    "collapsed": false,
    "ExecuteTime": {
     "end_time": "2024-05-01T10:25:45.736335Z",
     "start_time": "2024-05-01T10:25:45.732437Z"
    }
   },
   "execution_count": 28
  },
  {
   "cell_type": "markdown",
   "source": [
    "From dataset analysis we see, that we have 10 labels. "
   ],
   "metadata": {
    "collapsed": false
   }
  },
  {
   "cell_type": "code",
   "outputs": [
    {
     "name": "stdout",
     "output_type": "stream",
     "text": [
      "<class 'pandas.core.frame.DataFrame'>\n",
      "RangeIndex: 52500 entries, 0 to 52499\n",
      "Columns: 1025 entries, pix1 to label\n",
      "dtypes: int64(1025)\n",
      "memory usage: 410.6 MB\n"
     ]
    }
   ],
   "source": [
    "df_data.info()"
   ],
   "metadata": {
    "collapsed": false,
    "ExecuteTime": {
     "end_time": "2024-05-01T08:44:49.783556Z",
     "start_time": "2024-05-01T08:44:49.607291Z"
    }
   },
   "execution_count": 4
  },
  {
   "cell_type": "markdown",
   "source": [
    "We see, that to store the dataset in memory takes $410.6$ MB. Thus we need to use a different approach - load images into memory only when we use them. We will use pytorch dataset api for this purposes."
   ],
   "metadata": {
    "collapsed": false
   }
  },
  {
   "cell_type": "code",
   "outputs": [],
   "source": [
    "# release memory\n",
    "del df_data, X_train, X_val, y_train, y_val"
   ],
   "metadata": {
    "collapsed": false,
    "ExecuteTime": {
     "end_time": "2024-05-01T10:09:41.285354Z",
     "start_time": "2024-05-01T10:09:41.232835Z"
    }
   },
   "execution_count": 13
  },
  {
   "cell_type": "code",
   "outputs": [],
   "source": [],
   "metadata": {
    "collapsed": false
   }
  }
 ],
 "metadata": {
  "kernelspec": {
   "display_name": "Python 3 (ipykernel)",
   "language": "python",
   "name": "python3"
  },
  "language_info": {
   "codemirror_mode": {
    "name": "ipython",
    "version": 3
   },
   "file_extension": ".py",
   "mimetype": "text/x-python",
   "name": "python",
   "nbconvert_exporter": "python",
   "pygments_lexer": "ipython3",
   "version": "3.10.11"
  }
 },
 "nbformat": 4,
 "nbformat_minor": 4
}
