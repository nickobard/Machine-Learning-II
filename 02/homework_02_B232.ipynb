{
 "cells": [
  {
   "cell_type": "markdown",
   "metadata": {},
   "source": [
    "# Úkol č. 2 - Využití neuronových sítí\n",
    "\n",
    "  * **Deadline je 13. 5. 2024, 23:59:59**, pokud odevzdáte úkol do 20. 5. 2024, 23:59:59, budete penalizování -12 body, pozdější odevzdání je bez bodu.\n",
    "  * V rámci tohoto úkolu musíte sestrojit vhodný model neuronové sítě pro vícetřídou klasifikaci.\n",
    "  * Část bodů získáte za správné vypracování a část bodů získáte za výslednou přesnost Vašeho modelu na evaluačních datech.\n",
    "    \n",
    "> **Úkoly jsou zadány tak, aby Vám daly prostor pro invenci. Vymyslet _jak přesně_ budete úkol řešit, je důležitou součástí zadání a originalita či nápaditost bude také hodnocena!**\n",
    "\n",
    "Využívejte buňky typu `Markdown` k vysvětlování Vašeho postupu. Za nepřehlednost budou strhávány body.\n",
    "\n",
    "## Zdroj dat\n",
    "\n",
    " * Zdrojem dat jsou soubory `train.csv` a `evaluate.csv`.\n",
    " * Jedná se o obrázky 32x32 pixelů ve stupních šedi, které byly nějakým způsobem vyrobeny z [Fashion Mnist datasetu](https://www.kaggle.com/datasets/zalando-research/fashionmnist).\n",
    " * Soubor `train.csv` obsahuje trénovací data.\n",
    " * Cílová (vysvětlovaná) proměnná se jmenuje **label**.\n",
    " * Soubor `evaluate.csv` obsahuje testovací data bez hodnot skutečných labelů.\n",
    "\n",
    "## Pokyny k vypracování (max 18 bodů)\n",
    "\n",
    "**Body zadání**, za jejichž (poctivé) vypracování získáte **18 bodů**:\n",
    "  * V notebooku načtěte data ze souboru `train.csv`. Vhodným způsobem si je rozdělte na podmnožiny, které Vám poslouží pro trénování, porovnávání modelů a následnou predikci výkonnosti finálního modelu.\n",
    "  * Proveďte základní průzkum dat a svá pozorování diskutujte. Některé obrázky také zobrazte.\n",
    "  * Sestrojte a natrénujte několik variant modelu dopředné neuronové sítě. Přitom v rámci výpočetních možností:\n",
    "      * Okomentujte vhodnost daného modelu pro daný typ úlohy.\n",
    "      * Experimentujte s různými hloubkami a velikosmi vrstev.\n",
    "      * Experimentujte se standardizací/normalizací dat.\n",
    "      * Experimentujte s různými optimalizačními metodami.\n",
    "      * Experimentujte s různými regularizačními technikami.\n",
    "      * Získané výsledky vždy řádně okomentujte.\n",
    "\n",
    "  * Sestrojte model konvoluční neuronové sítě. Přitom v rámci výpočetních možností:\n",
    "      * Okomentujte vhodnost daného modelu pro daný typ úlohy.\n",
    "      * Experimentujte s různými hloubkami a velikosmi vrstev.\n",
    "      * Experimentujte se standardizací/normalizací dat.\n",
    "      * Experimentujte s různými optimalizačními metodami.\n",
    "      * Experimentujte s různými regularizačními technikami.\n",
    "      * Získané výsledky vždy řádně okomentujte.\n",
    "    \n",
    "  * Ze všech zkoušených možností vyberte finální model a odhadněte, jakou přesnost můžete očekávat na nových datech, která jste doposud neměli k dispozici.\n",
    "  \n",
    "  * Nakonec načtěte vyhodnocovací data ze souboru`evaluate.csv`. Pomocí finálního modelu napočítejte predikce pro tyto data (vysvětlovaná proměnná v nich již není). Vytvořte soubor `results.csv`, ve kterém získané predikce uložíte do sloupce **label** a identifikátory do sloupce **ID**. Tento soubor též odevzdejte (uložte do projektu vedle notebooku).\n",
    "   \n",
    "   * Ukázka prvních řádků souboru `results.csv`:\n",
    "  \n",
    "```\n",
    "ID,label\n",
    "0,0\n",
    "1,1\n",
    "...\n",
    "```\n",
    "\n",
    "## Vyhodnocovací část (max 7 bodů)\n",
    "Za přesnost (accuraccy) na odevzdaných predikcích pro vyhodnocovací množnu získáte dalších max **7 bodů**.\n",
    "\n",
    "Označíme-li $A$ přesnost, které jste dosáhli, zaokrouhlenou na 2 desetinná místa, akumulují se výsledné body podle následujících pravidel:\n",
    "* pokud $A \\geq 0.80$ obdržíte +1 bod\n",
    "* pokud $A \\geq 0.83$ obdržíte +1 bod\n",
    "* pokud $A \\geq 0.86$ obdržíte +1 bod\n",
    "* pokud $A \\geq 0.87$ obdržíte +1 bod\n",
    "* pokud $A \\geq 0.88$ obdržíte +1 bod\n",
    "* pokud $A \\geq 0.89$ obdržíte +1 bod\n",
    "* pokud $A \\geq 0.90$ obdržíte +1 bod\n",
    "\n",
    "**Příklad:** Pokud bude Vaše přesnost 0.856, vyjde A = 0.86 a vy získáte 3 body.\n",
    "\n",
    "\n",
    "## Poznámky k odevzdání\n",
    "\n",
    "  * Řiďte se pokyny ze stránky https://courses.fit.cvut.cz/BI-ML2/homeworks/index.html.\n",
    "  * Vytvořte i csv soubor `results.csv` s predikcemi a uložte ho v rámci projektu vedle ipython notebooku."
   ]
  },
  {
   "cell_type": "code",
   "execution_count": 29,
   "metadata": {
    "ExecuteTime": {
     "end_time": "2024-05-13T08:06:01.328461Z",
     "start_time": "2024-05-13T08:06:01.325020Z"
    }
   },
   "outputs": [],
   "source": [
    "import pandas as pd\n",
    "import numpy as np\n",
    "import os, copy\n",
    "from IPython.display import display\n",
    "from sklearn.model_selection import train_test_split, ParameterGrid\n",
    "import sklearn.metrics as metrics\n",
    "from sklearn.preprocessing import StandardScaler, MinMaxScaler\n",
    "from torch.utils.tensorboard import SummaryWriter\n",
    "import torch\n",
    "from torch.utils.data import DataLoader\n",
    "from torch import nn\n",
    "import random\n",
    "from datetime import datetime\n",
    "\n",
    "from tqdm import tqdm\n",
    "\n",
    "import matplotlib.pyplot as plt"
   ]
  },
  {
   "cell_type": "code",
   "outputs": [
    {
     "name": "stdout",
     "output_type": "stream",
     "text": [
      "CUDA Available:  True\n",
      "cuDNN Enabled:  True\n",
      "cuDNN Version:  8700\n"
     ]
    }
   ],
   "source": [
    "random_seed = 42\n",
    "\n",
    "\n",
    "def set_random_seed(random_seed):\n",
    "    \"\"\"\n",
    "    Function to set up random seed to be fixed, so we have consistent results\n",
    "    \"\"\"\n",
    "    torch.manual_seed(random_seed)\n",
    "    np.random.seed(random_seed)\n",
    "    random.seed(random_seed)\n",
    "\n",
    "\n",
    "set_random_seed(random_seed)\n",
    "\n",
    "# exploring the environment of the host, if the use of graphics card is available.\n",
    "print(\"CUDA Available: \", torch.cuda.is_available())\n",
    "print(\"cuDNN Enabled: \", torch.backends.cudnn.enabled)\n",
    "print(\"cuDNN Version: \", torch.backends.cudnn.version())\n",
    "\n",
    "# set up to use deterministic algorithms, so we have consistent results\n",
    "torch.backends.cudnn.deterministic = True"
   ],
   "metadata": {
    "collapsed": false,
    "ExecuteTime": {
     "end_time": "2024-05-13T08:06:08.494286Z",
     "start_time": "2024-05-13T08:06:08.488654Z"
    }
   },
   "execution_count": 30
  },
  {
   "cell_type": "markdown",
   "source": [
    "# Data Exploration"
   ],
   "metadata": {
    "collapsed": false
   }
  },
  {
   "cell_type": "markdown",
   "source": [
    "We will start with exploration of our data. \n",
    "\n",
    "From given dataset [description](https://www.kaggle.com/datasets/zalando-research/fashionmnist), we know:\n",
    "- Our dataset is a set of images in shades of grey (meaning we have only one channel). \n",
    "- Image size is $32 \\times 32$. \n",
    "- Each image is represented as a row of pixels with a label column.\n",
    "\n",
    "Label column has following classes:\n",
    "\n",
    "- 0 - T-shirt/top\n",
    "- 1 - Trouser\n",
    "- 2 - Pullover\n",
    "- 3 - Dress\n",
    "- 4 - Coat\n",
    "- 5 - Sandal\n",
    "- 6 - Shirt\n",
    "- 7 - Sneaker\n",
    "- 8 - Bag\n",
    "- 9 - Ankle boot"
   ],
   "metadata": {
    "collapsed": false
   }
  },
  {
   "cell_type": "code",
   "outputs": [],
   "source": [
    "# for visualization purposes later \n",
    "labels_dict = {0: \"T-shirt/top\", 1: \"Trouser\", 2: \"Pullover\", 3: \"Dress\", 4: \"Coat\", 5: \"Sandal\", 6: \"Shirt\",\n",
    "               7: \"Sneaker\", 8: \"Bag\", 9: \"Ankle boot\"}"
   ],
   "metadata": {
    "collapsed": false,
    "ExecuteTime": {
     "end_time": "2024-05-13T11:04:55.728402Z",
     "start_time": "2024-05-13T11:04:55.726276Z"
    }
   },
   "execution_count": 76
  },
  {
   "cell_type": "code",
   "outputs": [],
   "source": [
    "df_data = pd.read_csv('train.csv')"
   ],
   "metadata": {
    "collapsed": false,
    "ExecuteTime": {
     "end_time": "2024-05-13T08:01:38.338440Z",
     "start_time": "2024-05-13T08:01:34.051683Z"
    }
   },
   "execution_count": 9
  },
  {
   "cell_type": "markdown",
   "source": [
    "From the beginning we will split dataset into train and validation parts, exploring and analyzing data only of the train part. "
   ],
   "metadata": {
    "collapsed": false
   }
  },
  {
   "cell_type": "code",
   "outputs": [
    {
     "name": "stdout",
     "output_type": "stream",
     "text": [
      "Data shape: (52500, 1025)\n",
      "Images data shape: (52500, 1024)\n",
      "Train shape: (31500, 1024)\n",
      "Validation shape: (21000, 1024)\n"
     ]
    }
   ],
   "source": [
    "def split_data(data):\n",
    "    \"\"\"\n",
    "    Split dataset into training and validation parts\n",
    "    \"\"\"\n",
    "    print(f'Data shape: {data.shape}')\n",
    "    labels = data['label']\n",
    "    images = data.drop('label', axis=1)\n",
    "    print(f'Images data shape: {images.shape}')\n",
    "    X_train, X_val, y_train, y_val = train_test_split(images, labels, test_size=0.4, random_state=random_seed)\n",
    "    print(f\"Train shape: {X_train.shape}\")\n",
    "    print(f\"Validation shape: {X_val.shape}\")\n",
    "    return X_train, X_val, y_train, y_val\n",
    "\n",
    "\n",
    "X_train, X_val, y_train, y_val = split_data(df_data)"
   ],
   "metadata": {
    "collapsed": false,
    "ExecuteTime": {
     "end_time": "2024-05-13T08:01:38.597617Z",
     "start_time": "2024-05-13T08:01:38.339516Z"
    }
   },
   "execution_count": 10
  },
  {
   "cell_type": "markdown",
   "source": [
    "We have high dimensionality data - $1024$ dimensions. For neural networks high dimensionality is not a concern, but a lack of data can be. In our case we have quite a lot of images - $52500$ in the whole dataset, which should be quite enough. \n",
    "\n",
    "Now for exploration purposes, we will look at some rows and columns of raw data: "
   ],
   "metadata": {
    "collapsed": false
   }
  },
  {
   "cell_type": "code",
   "outputs": [
    {
     "data": {
      "text/plain": "       label  pix526  pix358  pix445  pix32  pix619\n2262       3     176       2       2      2     190\n25445      4     211       4       4      4     223\n46043      7     201       0       0      0     220\n12531      0     179       3       3      3     183\n10152      5     204      80       0      0      31",
      "text/html": "<div>\n<style scoped>\n    .dataframe tbody tr th:only-of-type {\n        vertical-align: middle;\n    }\n\n    .dataframe tbody tr th {\n        vertical-align: top;\n    }\n\n    .dataframe thead th {\n        text-align: right;\n    }\n</style>\n<table border=\"1\" class=\"dataframe\">\n  <thead>\n    <tr style=\"text-align: right;\">\n      <th></th>\n      <th>label</th>\n      <th>pix526</th>\n      <th>pix358</th>\n      <th>pix445</th>\n      <th>pix32</th>\n      <th>pix619</th>\n    </tr>\n  </thead>\n  <tbody>\n    <tr>\n      <th>2262</th>\n      <td>3</td>\n      <td>176</td>\n      <td>2</td>\n      <td>2</td>\n      <td>2</td>\n      <td>190</td>\n    </tr>\n    <tr>\n      <th>25445</th>\n      <td>4</td>\n      <td>211</td>\n      <td>4</td>\n      <td>4</td>\n      <td>4</td>\n      <td>223</td>\n    </tr>\n    <tr>\n      <th>46043</th>\n      <td>7</td>\n      <td>201</td>\n      <td>0</td>\n      <td>0</td>\n      <td>0</td>\n      <td>220</td>\n    </tr>\n    <tr>\n      <th>12531</th>\n      <td>0</td>\n      <td>179</td>\n      <td>3</td>\n      <td>3</td>\n      <td>3</td>\n      <td>183</td>\n    </tr>\n    <tr>\n      <th>10152</th>\n      <td>5</td>\n      <td>204</td>\n      <td>80</td>\n      <td>0</td>\n      <td>0</td>\n      <td>31</td>\n    </tr>\n  </tbody>\n</table>\n</div>"
     },
     "execution_count": 30,
     "metadata": {},
     "output_type": "execute_result"
    }
   ],
   "source": [
    "def explore_with_m_rd_columns(m=5):\n",
    "    \"\"\"Choose random m columns and drop the rest except label column\"\"\"\n",
    "    data_train_df = pd.concat((y_train, X_train), axis=1)\n",
    "    random_indices = np.random.choice(range(1, data_train_df.shape[1]), m, replace=False)\n",
    "    selected_indices = np.append(0, random_indices)\n",
    "    selected_df = data_train_df.iloc[:, selected_indices]\n",
    "    return selected_df\n",
    "\n",
    "\n",
    "selection = explore_with_m_rd_columns(5)\n",
    "selection.head()"
   ],
   "metadata": {
    "collapsed": false,
    "ExecuteTime": {
     "end_time": "2024-05-12T10:27:05.514343Z",
     "start_time": "2024-05-12T10:27:05.462892Z"
    }
   },
   "execution_count": 30
  },
  {
   "cell_type": "code",
   "outputs": [
    {
     "data": {
      "text/plain": "              label        pix526        pix358        pix445         pix32  \\\ncount  31500.000000  31500.000000  31500.000000  31500.000000  31500.000000   \nmean       4.526444    147.596952     20.319365      6.203841      0.886762   \nstd        2.867504     71.149515     50.248750     25.342137      1.499157   \nmin        0.000000      0.000000      0.000000      0.000000      0.000000   \n25%        2.000000     99.000000      0.000000      0.000000      0.000000   \n50%        5.000000    164.000000      0.000000      0.000000      0.000000   \n75%        7.000000    205.000000      4.000000      2.000000      1.000000   \nmax        9.000000    255.000000    255.000000    255.000000     11.000000   \n\n             pix619  \ncount  31500.000000  \nmean     115.607302  \nstd       83.160125  \nmin        0.000000  \n25%       30.000000  \n50%      124.000000  \n75%      191.000000  \nmax      255.000000  ",
      "text/html": "<div>\n<style scoped>\n    .dataframe tbody tr th:only-of-type {\n        vertical-align: middle;\n    }\n\n    .dataframe tbody tr th {\n        vertical-align: top;\n    }\n\n    .dataframe thead th {\n        text-align: right;\n    }\n</style>\n<table border=\"1\" class=\"dataframe\">\n  <thead>\n    <tr style=\"text-align: right;\">\n      <th></th>\n      <th>label</th>\n      <th>pix526</th>\n      <th>pix358</th>\n      <th>pix445</th>\n      <th>pix32</th>\n      <th>pix619</th>\n    </tr>\n  </thead>\n  <tbody>\n    <tr>\n      <th>count</th>\n      <td>31500.000000</td>\n      <td>31500.000000</td>\n      <td>31500.000000</td>\n      <td>31500.000000</td>\n      <td>31500.000000</td>\n      <td>31500.000000</td>\n    </tr>\n    <tr>\n      <th>mean</th>\n      <td>4.526444</td>\n      <td>147.596952</td>\n      <td>20.319365</td>\n      <td>6.203841</td>\n      <td>0.886762</td>\n      <td>115.607302</td>\n    </tr>\n    <tr>\n      <th>std</th>\n      <td>2.867504</td>\n      <td>71.149515</td>\n      <td>50.248750</td>\n      <td>25.342137</td>\n      <td>1.499157</td>\n      <td>83.160125</td>\n    </tr>\n    <tr>\n      <th>min</th>\n      <td>0.000000</td>\n      <td>0.000000</td>\n      <td>0.000000</td>\n      <td>0.000000</td>\n      <td>0.000000</td>\n      <td>0.000000</td>\n    </tr>\n    <tr>\n      <th>25%</th>\n      <td>2.000000</td>\n      <td>99.000000</td>\n      <td>0.000000</td>\n      <td>0.000000</td>\n      <td>0.000000</td>\n      <td>30.000000</td>\n    </tr>\n    <tr>\n      <th>50%</th>\n      <td>5.000000</td>\n      <td>164.000000</td>\n      <td>0.000000</td>\n      <td>0.000000</td>\n      <td>0.000000</td>\n      <td>124.000000</td>\n    </tr>\n    <tr>\n      <th>75%</th>\n      <td>7.000000</td>\n      <td>205.000000</td>\n      <td>4.000000</td>\n      <td>2.000000</td>\n      <td>1.000000</td>\n      <td>191.000000</td>\n    </tr>\n    <tr>\n      <th>max</th>\n      <td>9.000000</td>\n      <td>255.000000</td>\n      <td>255.000000</td>\n      <td>255.000000</td>\n      <td>11.000000</td>\n      <td>255.000000</td>\n    </tr>\n  </tbody>\n</table>\n</div>"
     },
     "execution_count": 31,
     "metadata": {},
     "output_type": "execute_result"
    }
   ],
   "source": [
    "selection.describe()"
   ],
   "metadata": {
    "collapsed": false,
    "ExecuteTime": {
     "end_time": "2024-05-12T10:27:05.571956Z",
     "start_time": "2024-05-12T10:27:05.515458Z"
    }
   },
   "execution_count": 31
  },
  {
   "cell_type": "code",
   "outputs": [
    {
     "name": "stdout",
     "output_type": "stream",
     "text": [
      "<class 'pandas.core.frame.DataFrame'>\n",
      "Index: 31500 entries, 2262 to 15795\n",
      "Data columns (total 6 columns):\n",
      " #   Column  Non-Null Count  Dtype\n",
      "---  ------  --------------  -----\n",
      " 0   label   31500 non-null  int64\n",
      " 1   pix526  31500 non-null  int64\n",
      " 2   pix358  31500 non-null  int64\n",
      " 3   pix445  31500 non-null  int64\n",
      " 4   pix32   31500 non-null  int64\n",
      " 5   pix619  31500 non-null  int64\n",
      "dtypes: int64(6)\n",
      "memory usage: 1.7 MB\n"
     ]
    }
   ],
   "source": [
    "selection.info()"
   ],
   "metadata": {
    "collapsed": false,
    "ExecuteTime": {
     "end_time": "2024-05-12T10:27:05.579960Z",
     "start_time": "2024-05-12T10:27:05.573047Z"
    }
   },
   "execution_count": 32
  },
  {
   "cell_type": "markdown",
   "source": [
    "Pixels are given as integers. Using Pytorch, we will need float datatypes, so we will later convert the integers to floats, except label column, where integer type can be left."
   ],
   "metadata": {
    "collapsed": false
   }
  },
  {
   "cell_type": "code",
   "outputs": [
    {
     "data": {
      "text/plain": "array([0, 1, 2, 3, 4, 5, 6, 7, 8, 9])"
     },
     "execution_count": 33,
     "metadata": {},
     "output_type": "execute_result"
    }
   ],
   "source": [
    "np.sort(y_train.unique())"
   ],
   "metadata": {
    "collapsed": false,
    "ExecuteTime": {
     "end_time": "2024-05-12T10:27:05.584814Z",
     "start_time": "2024-05-12T10:27:05.580974Z"
    }
   },
   "execution_count": 33
  },
  {
   "cell_type": "markdown",
   "source": [
    "We see that in training data there are $10$ unique labels, thus all classes are present.\n",
    "\n",
    "We will look now at $10$ random images from dataset for each class to visualize what our classes are."
   ],
   "metadata": {
    "collapsed": false
   }
  },
  {
   "cell_type": "code",
   "outputs": [],
   "source": [
    "# for each class find one row with that class\n",
    "indices = list()\n",
    "for label in np.sort(y_train.unique()):\n",
    "    indices.append(y_train[y_train == label].index[0])\n",
    "\n",
    "# data with selected indices\n",
    "selection_X_train, selection_y_train = X_train.loc[indices], y_train.loc[indices]"
   ],
   "metadata": {
    "collapsed": false,
    "ExecuteTime": {
     "end_time": "2024-05-12T10:27:05.600441Z",
     "start_time": "2024-05-12T10:27:05.585698Z"
    }
   },
   "execution_count": 34
  },
  {
   "cell_type": "code",
   "outputs": [],
   "source": [
    "def draw_images(images, labels, shape, scale=1):\n",
    "    \"\"\"Draw images in a grid with a given shape. Scale it to make the visualization bigger.\"\"\"\n",
    "    images = images.to_numpy()\n",
    "    labels = labels.to_numpy()\n",
    "\n",
    "    fig = plt.figure(figsize=(scale * 2 * shape[1], scale * 2 * shape[0]), constrained_layout=True)\n",
    "    i = 0\n",
    "    while i < images.shape[0]:\n",
    "        ax_hist = fig.add_subplot(2 * shape[0], 2 * shape[1], 2 * i + 1)\n",
    "        ax_hist.hist(images[i], bins=256)\n",
    "        ax_hist.set_yscale('log')\n",
    "        ax_hist.set_ylabel(\"Count (log scale)\")\n",
    "        ax_hist.set_xlabel(\"Pixel value\")\n",
    "\n",
    "        ax_image = fig.add_subplot(2 * shape[0], 2 * shape[1], 2 * i + 2, xticks=[], yticks=[])\n",
    "        image = images[i].reshape((32, 32))\n",
    "        ax_image.imshow(image, cmap=\"Oranges\", interpolation=\"nearest\")\n",
    "        ax_image.set_title(f\"{labels_dict[i]}\\n(Y = {labels[i]})\")\n",
    "\n",
    "        i += 1"
   ],
   "metadata": {
    "collapsed": false,
    "ExecuteTime": {
     "end_time": "2024-05-13T11:04:55.820557Z",
     "start_time": "2024-05-13T11:04:55.729245Z"
    }
   },
   "execution_count": 77
  },
  {
   "cell_type": "code",
   "outputs": [
    {
     "data": {
      "text/plain": "<Figure size 1000x2500 with 20 Axes>",
      "image/png": "[encoded data removed]"
     },
     "metadata": {},
     "output_type": "display_data"
    }
   ],
   "source": [
    "draw_images(selection_X_train, selection_y_train, shape=(5, 2), scale=2.5)"
   ],
   "metadata": {
    "collapsed": false,
    "ExecuteTime": {
     "end_time": "2024-05-12T10:27:11.573187Z",
     "start_time": "2024-05-12T10:27:05.608800Z"
    }
   },
   "execution_count": 36
  },
  {
   "cell_type": "markdown",
   "source": [
    "Visualization shows not only the images, but their histograms too - how many pixels of each value are present in the image.\n",
    "\n",
    "Now we will also look at how classes are distributed, if they are balanced."
   ],
   "metadata": {
    "collapsed": false
   }
  },
  {
   "cell_type": "code",
   "outputs": [
    {
     "data": {
      "text/plain": "<Figure size 1000x500 with 1 Axes>",
      "image/png": "[encoded data removed]"
     },
     "metadata": {},
     "output_type": "display_data"
    }
   ],
   "source": [
    "fig, ax = plt.subplots(figsize=(10, 5))\n",
    "class_counts = y_train.value_counts().sort_index()\n",
    "class_counts.plot(ax=ax, kind='bar')\n",
    "ax.set_title(\"Distribution of Classes\")\n",
    "ax.set_xlabel(\"Classes\")\n",
    "ax.set_ylabel(\"Frequency\")\n",
    "ax.set_xticks(class_counts.index, labels=labels_dict.values(), rotation=0)\n",
    "plt.show()"
   ],
   "metadata": {
    "collapsed": false,
    "ExecuteTime": {
     "end_time": "2024-05-12T10:27:11.694378Z",
     "start_time": "2024-05-12T10:27:11.575282Z"
    }
   },
   "execution_count": 37
  },
  {
   "cell_type": "markdown",
   "source": [
    "We see that classes are distributed almost uniformly, so we don't have to be concerned with data imbalance issues."
   ],
   "metadata": {
    "collapsed": false
   }
  },
  {
   "cell_type": "code",
   "outputs": [
    {
     "name": "stdout",
     "output_type": "stream",
     "text": [
      "<class 'pandas.core.frame.DataFrame'>\n",
      "RangeIndex: 52500 entries, 0 to 52499\n",
      "Columns: 1025 entries, pix1 to label\n",
      "dtypes: int64(1025)\n",
      "memory usage: 410.6 MB\n"
     ]
    }
   ],
   "source": [
    "df_data.info()"
   ],
   "metadata": {
    "collapsed": false,
    "ExecuteTime": {
     "end_time": "2024-05-12T10:27:11.904857Z",
     "start_time": "2024-05-12T10:27:11.695121Z"
    }
   },
   "execution_count": 38
  },
  {
   "cell_type": "markdown",
   "source": [
    "To store the dataset in memory takes $410.6$ MB, which is high, but tolerable.\n",
    "\n",
    "We will create torch datasets from our splits and convert it to float32 data type, because by default models will have weights with float32 data type."
   ],
   "metadata": {
    "collapsed": false
   }
  },
  {
   "cell_type": "code",
   "outputs": [],
   "source": [
    "train_data = torch.utils.data.TensorDataset(torch.tensor(X_train.to_numpy(), dtype=torch.float32),\n",
    "                                            torch.tensor(y_train.to_numpy()))\n",
    "val_data = torch.utils.data.TensorDataset(torch.tensor(X_val.to_numpy(), dtype=torch.float32),\n",
    "                                          torch.tensor(y_val.to_numpy()))"
   ],
   "metadata": {
    "collapsed": false,
    "ExecuteTime": {
     "end_time": "2024-05-13T08:01:45.454358Z",
     "start_time": "2024-05-13T08:01:45.404919Z"
    }
   },
   "execution_count": 11
  },
  {
   "cell_type": "markdown",
   "source": [
    "# Feed Forward Neural Network"
   ],
   "metadata": {
    "collapsed": false
   }
  },
  {
   "cell_type": "markdown",
   "source": [
    "Now we will train a feed forward neural network using pytorch api. Neural networks show themselves good with highly dimensional data with a lot of datapoints. In our case we have a lot of data, so neural network should show itself as quite good model."
   ],
   "metadata": {
    "collapsed": false
   }
  },
  {
   "cell_type": "markdown",
   "source": [
    "## Preparations"
   ],
   "metadata": {
    "collapsed": false
   }
  },
  {
   "cell_type": "markdown",
   "source": [
    "We will use Pytorch dataloaders to split our samples into batches (or minibatches) for training. "
   ],
   "metadata": {
    "collapsed": false
   }
  },
  {
   "cell_type": "code",
   "outputs": [
    {
     "name": "stdout",
     "output_type": "stream",
     "text": [
      "Features batch shape: torch.Size([32, 1024]); data type: torch.float32\n",
      "Labels batch shape: torch.Size([32]); data type: torch.int64\n"
     ]
    }
   ],
   "source": [
    "training_loader = torch.utils.data.DataLoader(train_data, batch_size=32, shuffle=True)\n",
    "\n",
    "train_features, train_labels = next(iter(training_loader))\n",
    "print(f\"Features batch shape: {train_features.size()}; data type: {train_features.dtype}\")\n",
    "print(f\"Labels batch shape: {train_labels.size()}; data type: {train_labels.dtype}\")"
   ],
   "metadata": {
    "collapsed": false,
    "ExecuteTime": {
     "end_time": "2024-05-13T08:01:49.393149Z",
     "start_time": "2024-05-13T08:01:49.385960Z"
    }
   },
   "execution_count": 13
  },
  {
   "cell_type": "markdown",
   "source": [
    "We know that input size and output size will not change (we will not use dimensionality reduction techniques), so we will make them constant."
   ],
   "metadata": {
    "collapsed": false
   }
  },
  {
   "cell_type": "code",
   "outputs": [],
   "source": [
    "INPUT_SIZE = 1024\n",
    "OUTPUT_SIZE = 10"
   ],
   "metadata": {
    "collapsed": false,
    "ExecuteTime": {
     "end_time": "2024-05-13T08:01:51.323455Z",
     "start_time": "2024-05-13T08:01:51.320854Z"
    }
   },
   "execution_count": 14
  },
  {
   "cell_type": "markdown",
   "source": [
    "### Logging"
   ],
   "metadata": {
    "collapsed": false
   }
  },
  {
   "cell_type": "markdown",
   "source": [
    "\n",
    "To analyze our results, we will save results in csv file, so we can later analyze it with Pandas, and we will save our results in tensorboard logs, to see visualizations in tensorboard.\n",
    "For this we need to prepare certain classes and functions."
   ],
   "metadata": {
    "collapsed": false
   }
  },
  {
   "cell_type": "code",
   "outputs": [],
   "source": [
    "def parse_hyperparameters(hparams):\n",
    "    \"\"\"Produces a short string for logging purposes which displays \n",
    "    used hyperparameters and their values in a shortened form\"\"\"\n",
    "    parsed_items = []\n",
    "\n",
    "    for hparam, value in hparams.items():\n",
    "        short_hparam = ''.join([word[0] for word in hparam.split('_')])\n",
    "        parsed_item = f\"{short_hparam}={value}\"\n",
    "        parsed_items.append(parsed_item)\n",
    "\n",
    "    result_string = ','.join(parsed_items)\n",
    "    return result_string"
   ],
   "metadata": {
    "collapsed": false,
    "ExecuteTime": {
     "end_time": "2024-05-13T10:16:56.461698Z",
     "start_time": "2024-05-13T10:16:56.458861Z"
    }
   },
   "execution_count": 60
  },
  {
   "cell_type": "code",
   "outputs": [],
   "source": [
    "class CSVExporter:\n",
    "    \"\"\"\n",
    "    Class that aggregates training results for each epoch, \n",
    "    and after training all epochs appends results to results.csv file in logging directory.\n",
    "    \"\"\"\n",
    "\n",
    "    def __init__(self, hparams_columns):\n",
    "        self.scalars = {column: list() for column in\n",
    "                        [\"log_name\", \"tag\"] + hparams_columns + [\"train_loss\", \"train_acc\", \"val_loss\", \"val_acc\"]}\n",
    "        self.log_name = None\n",
    "        self.tag = None\n",
    "        self.save_path = None\n",
    "\n",
    "    def init(self, log_name, tag, log_dir):\n",
    "        self.log_name = log_name\n",
    "        self.tag = tag\n",
    "        self.save_path = f\"{log_dir}/results.csv\"\n",
    "\n",
    "    def add_scalars(self, hparams, train_loss, train_acc, val_loss, val_acc, epoch):\n",
    "        self.scalars[\"epochs\"].append(epoch)\n",
    "        self.scalars[\"train_loss\"].append(train_loss)\n",
    "        self.scalars[\"train_acc\"].append(train_acc)\n",
    "        self.scalars[\"val_loss\"].append(val_loss)\n",
    "        self.scalars[\"val_acc\"].append(val_acc)\n",
    "        self.scalars['log_name'].append(self.log_name)\n",
    "        self.scalars['tag'].append(self.tag)\n",
    "\n",
    "        for k_hparam, v_hparam in hparams.items():\n",
    "            self.scalars[k_hparam].append(v_hparam)\n",
    "\n",
    "    def save(self):\n",
    "        df_scalars = pd.DataFrame(self.scalars)\n",
    "        if os.path.exists(self.save_path):\n",
    "            df_existing = pd.read_csv(self.save_path, index_col=False)\n",
    "            df_scalars = pd.concat([df_existing, df_scalars], ignore_index=True)\n",
    "        df_scalars.to_csv(path_or_buf=self.save_path, index=False)\n"
   ],
   "metadata": {
    "collapsed": false,
    "ExecuteTime": {
     "end_time": "2024-05-13T10:20:44.615920Z",
     "start_time": "2024-05-13T10:20:44.611046Z"
    }
   },
   "execution_count": 69
  },
  {
   "cell_type": "code",
   "outputs": [],
   "source": [
    "class Writer:\n",
    "    \"\"\"\n",
    "    Class used to save results in tensorboard and add new scalars to CSVExporter if the exporter is given.\n",
    "    \"\"\"\n",
    "\n",
    "    def __init__(self, log_dir, tag, hparams, print_summary, csv_exporter=None):\n",
    "        if tag:\n",
    "            log_path = f\"{log_dir}/{tag}\"\n",
    "\n",
    "        current_time = datetime.now().strftime('%Y-%m-%d_%H:%M:%S')\n",
    "        hparams_string = parse_hyperparameters(hparams)\n",
    "        log_name = f\"{current_time}_{hparams_string}\"\n",
    "\n",
    "        self.train_writer = SummaryWriter(log_dir=f\"{log_path}/{log_name}/train\")\n",
    "        self.val_writer = SummaryWriter(log_dir=f\"{log_path}/{log_name}/val\")\n",
    "\n",
    "        self.hparams = copy.deepcopy(hparams)\n",
    "        del self.hparams['epochs']\n",
    "\n",
    "        self.csv_exporter = csv_exporter\n",
    "        if csv_exporter:\n",
    "            csv_exporter.init(log_name, tag, log_dir)\n",
    "\n",
    "        if print_summary:\n",
    "            print(f\"Current model hyperparameters: {hparams_string}\")\n",
    "\n",
    "    def add_scalars(self, train_loss, train_acc, val_loss, val_acc, epoch):\n",
    "        self.train_writer.add_scalar(tag=f\"Loss/train\", scalar_value=train_loss, global_step=epoch)\n",
    "        self.train_writer.add_scalar(tag=f\"Accuracy/train\", scalar_value=train_acc, global_step=epoch)\n",
    "\n",
    "        self.train_writer.add_scalar(tag=f\"Loss\", scalar_value=train_loss, global_step=epoch)\n",
    "        self.train_writer.add_scalar(tag=f\"Accuracy\", scalar_value=train_acc, global_step=epoch)\n",
    "\n",
    "        self.val_writer.add_scalar(tag=f\"Loss/validation\", scalar_value=val_loss, global_step=epoch)\n",
    "        self.val_writer.add_scalar(tag=f\"Accuracy/validation\", scalar_value=val_acc, global_step=epoch)\n",
    "\n",
    "        self.val_writer.add_scalar(tag=f\"Loss\", scalar_value=val_loss, global_step=epoch)\n",
    "        self.val_writer.add_scalar(tag=f\"Accuracy\", scalar_value=val_acc, global_step=epoch)\n",
    "\n",
    "        if self.csv_exporter:\n",
    "            self.csv_exporter.add_scalars(self.hparams, train_loss, train_acc, val_loss, val_acc, epoch)\n"
   ],
   "metadata": {
    "collapsed": false,
    "ExecuteTime": {
     "end_time": "2024-05-13T11:41:20.449313Z",
     "start_time": "2024-05-13T11:41:20.444165Z"
    }
   },
   "execution_count": 85
  },
  {
   "cell_type": "markdown",
   "source": [
    "### Training functions"
   ],
   "metadata": {
    "collapsed": false
   }
  },
  {
   "cell_type": "markdown",
   "source": [
    "We will define functions to train a neural network model."
   ],
   "metadata": {
    "collapsed": false
   }
  },
  {
   "cell_type": "code",
   "outputs": [],
   "source": [
    "def train_epoch(model, train_loader, optimizer, loss_fn, disable_output):\n",
    "    \"\"\"\n",
    "    Train one epoch for a model.\n",
    "    Computes training loss and accuracy while epoch training.\n",
    "    \"\"\"\n",
    "    epoch_cum_loss = 0\n",
    "    epoch_cum_correct = 0\n",
    "\n",
    "    for batch in tqdm(train_loader, total=len(train_loader), disable=None if disable_output else False):\n",
    "        batch_features, batch_labels = batch\n",
    "        optimizer.zero_grad()\n",
    "        output_logits = model(batch_features)\n",
    "        loss = loss_fn(output_logits, batch_labels)\n",
    "        loss.backward()\n",
    "        optimizer.step()\n",
    "\n",
    "        # loss accumulation for report\n",
    "        last_mean_loss = loss.item()\n",
    "        epoch_cum_loss += last_mean_loss * batch_features.shape[0]\n",
    "\n",
    "        # accuracy accumulation for report\n",
    "        with torch.no_grad():\n",
    "            batch_probabilities = torch.softmax(input=output_logits, dim=1)\n",
    "        batch_predictions = batch_probabilities.argmax(dim=1)\n",
    "        correct = (batch_predictions == batch_labels).sum()\n",
    "        epoch_cum_correct += correct\n",
    "\n",
    "    return epoch_cum_loss, epoch_cum_correct\n"
   ],
   "metadata": {
    "collapsed": false,
    "ExecuteTime": {
     "end_time": "2024-05-13T10:14:34.116310Z",
     "start_time": "2024-05-13T10:14:34.112066Z"
    }
   },
   "execution_count": 54
  },
  {
   "cell_type": "code",
   "outputs": [],
   "source": [
    "def validation(model, valid_loader, loss_fn):\n",
    "    \"\"\"\n",
    "    Computes validation loss and accuracy score without any training, gradients are disabled.\n",
    "    \"\"\"\n",
    "    epoch_cum_loss = 0\n",
    "    epoch_cum_correct = 0\n",
    "\n",
    "    for batch in valid_loader:\n",
    "        batch_features, batch_labels = batch\n",
    "\n",
    "        with torch.no_grad():\n",
    "            output_logits = model(batch_features)\n",
    "            loss = loss_fn(output_logits, batch_labels)\n",
    "            batch_probabilities = torch.softmax(input=output_logits, dim=1)\n",
    "\n",
    "        # loss accumulation for report\n",
    "        last_mean_loss = loss.item()\n",
    "        epoch_cum_loss += last_mean_loss * batch_features.shape[0]\n",
    "\n",
    "        # accuracy accumulation for report\n",
    "        batch_predictions = batch_probabilities.argmax(dim=1)\n",
    "        correct = (batch_predictions == batch_labels).sum()\n",
    "        epoch_cum_correct += correct\n",
    "    return epoch_cum_loss, epoch_cum_correct\n"
   ],
   "metadata": {
    "collapsed": false,
    "ExecuteTime": {
     "end_time": "2024-05-13T12:21:11.800478Z",
     "start_time": "2024-05-13T12:21:11.796648Z"
    }
   },
   "execution_count": 87
  },
  {
   "cell_type": "code",
   "outputs": [],
   "source": [
    "def get_optimizer(model, **hparams):\n",
    "    optimizer_params = {\n",
    "        \"params\": model.parameters(),\n",
    "        \"weight_decay\": hparams['weight_decay'] if 'weight_decay' in hparams else 0.0\n",
    "    }\n",
    "\n",
    "    optimizer = None\n",
    "\n",
    "    if \"optimizer\" not in hparams:\n",
    "        optimizer = torch.optim.Adam(**optimizer_params)\n",
    "    else:\n",
    "        if hparams['optimizer'] == 'Adam':\n",
    "            optimizer = torch.optim.Adam(**optimizer_params)\n",
    "        elif hparams['optimizer'] == 'SGD':\n",
    "            optimizer = torch.optim.SGD(**optimizer_params)\n",
    "    return optimizer"
   ],
   "metadata": {
    "collapsed": false,
    "ExecuteTime": {
     "end_time": "2024-05-13T16:53:51.586652Z",
     "start_time": "2024-05-13T16:53:51.583066Z"
    }
   },
   "execution_count": 160
  },
  {
   "cell_type": "code",
   "outputs": [],
   "source": [
    "def train(model, train_data, val_data,\n",
    "          tag=None,\n",
    "          csv_exporter=None,\n",
    "          disable_output=False,\n",
    "          print_summary=True,\n",
    "          **hparams):\n",
    "    \"\"\"\n",
    "    Trains instantiates a given model class, passing to it hyperparameters and then proceeds\n",
    "    starts training, logging the results for each epoch.\n",
    "    \"\"\"\n",
    "    set_random_seed(random_seed)\n",
    "\n",
    "    model = model(**hparams)\n",
    "\n",
    "    if print_summary:\n",
    "        print(model)\n",
    "\n",
    "    train_loader = torch.utils.data.DataLoader(train_data, batch_size=hparams['batch_size'], shuffle=True)\n",
    "    validation_loader = torch.utils.data.DataLoader(val_data, batch_size=hparams['batch_size'], shuffle=True)\n",
    "\n",
    "    optimizer = get_optimizer(model, **hparams)\n",
    "\n",
    "    loss_fn = torch.nn.CrossEntropyLoss(\n",
    "        label_smoothing=hparams['label_smoothing'] if 'label_smoothing' in hparams else 0.0\n",
    "    )\n",
    "\n",
    "    writer = Writer(\"logs\", tag, hparams=hparams, print_summary=print_summary, csv_exporter=csv_exporter)\n",
    "\n",
    "    for epoch in range(hparams['epochs']):\n",
    "        model.train(True)\n",
    "        epoch_cum_loss, epoch_cum_correct = train_epoch(model, train_loader, optimizer, loss_fn, disable_output)\n",
    "        model.train(False)\n",
    "\n",
    "        train_loss = epoch_cum_loss / len(train_data)\n",
    "        train_accuracy = epoch_cum_correct / len(train_data)\n",
    "\n",
    "        train_report = f\"train loss: {train_loss:.3f}, train accuracy: {train_accuracy:.3f}\"\n",
    "\n",
    "        val_epoch_cum_loss, val_epoch_cum_correct = validation(model, validation_loader, loss_fn)\n",
    "        val_loss = val_epoch_cum_loss / len(val_data)\n",
    "        val_accuracy = val_epoch_cum_correct / len(val_data)\n",
    "\n",
    "        val_report = f\"validation loss: {val_loss:.3f}, validation accuracy: {val_accuracy:.3f}\"\n",
    "\n",
    "        writer.add_scalars(train_loss=train_loss, train_acc=train_accuracy.item(),\n",
    "                           val_loss=val_loss, val_acc=val_accuracy.item(),\n",
    "                           epoch=epoch + 1)\n",
    "\n",
    "        if not disable_output:\n",
    "            print(f\"EPOCH: {epoch + 1}, {train_report}, {val_report}\")"
   ],
   "metadata": {
    "collapsed": false,
    "ExecuteTime": {
     "end_time": "2024-05-13T16:50:30.793222Z",
     "start_time": "2024-05-13T16:50:30.786603Z"
    }
   },
   "execution_count": 154
  },
  {
   "cell_type": "markdown",
   "source": [
    "### Neural Network Model Class"
   ],
   "metadata": {
    "collapsed": false
   }
  },
  {
   "cell_type": "code",
   "outputs": [],
   "source": [
    "class NeuralNetwork(nn.Module):\n",
    "    \"\"\"\n",
    "    Simple Feed-Forward Neural Network with fixed ReLu activation function. \n",
    "    \"\"\"\n",
    "\n",
    "    def __init__(self, input_size=INPUT_SIZE, output_size=OUTPUT_SIZE, **hparams):\n",
    "        super().__init__()\n",
    "\n",
    "        # container for layers\n",
    "        self.sequential = nn.Sequential()\n",
    "\n",
    "        # add at least one hidden layer and activation\n",
    "        self.sequential.append(nn.Linear(in_features=input_size, out_features=hparams['hidden_size']))\n",
    "        self.sequential.append(nn.ReLU())\n",
    "        if 'dropout' in hparams:\n",
    "            self.sequential.append(nn.Dropout(p=hparams['dropout']))\n",
    "\n",
    "        # add any additional hidden layers to the model if any\n",
    "        for _ in range(1, hparams['hidden_layers']):\n",
    "            self.sequential.append(nn.Linear(in_features=hparams['hidden_size'], out_features=hparams['hidden_size']))\n",
    "            self.sequential.append(nn.ReLU())\n",
    "            if 'dropout' in hparams:\n",
    "                self.sequential.append(nn.Dropout(p=hparams['dropout']))\n",
    "\n",
    "        # add end layer\n",
    "        self.sequential.append(nn.Linear(in_features=hparams['hidden_size'], out_features=output_size))\n",
    "\n",
    "    def forward(self, x):\n",
    "        return self.sequential(x)"
   ],
   "metadata": {
    "collapsed": false,
    "ExecuteTime": {
     "end_time": "2024-05-13T14:51:37.616343Z",
     "start_time": "2024-05-13T14:51:37.612039Z"
    }
   },
   "execution_count": 122
  },
  {
   "cell_type": "markdown",
   "source": [
    "## Model fine-tuning"
   ],
   "metadata": {
    "collapsed": false
   }
  },
  {
   "cell_type": "markdown",
   "source": [
    "Now we will start training our model. Because training of neural network is computationally an intensive task, we will first experiment with different hidden layers number, layer sizes, batch sizes. After that we will analyze for which hyperparameters values we had best scores, reduce our hyperparameter space to those top hyperparameters and then proceed with experimenting with new hyperparameters. \n",
    "\n",
    "Let's try some random model to see how our training process works:"
   ],
   "metadata": {
    "collapsed": false
   }
  },
  {
   "cell_type": "code",
   "outputs": [
    {
     "name": "stdout",
     "output_type": "stream",
     "text": [
      "NeuralNetwork(\n",
      "  (sequential): Sequential(\n",
      "    (0): Linear(in_features=1024, out_features=64, bias=True)\n",
      "    (1): ReLU()\n",
      "    (2): Linear(in_features=64, out_features=64, bias=True)\n",
      "    (3): ReLU()\n",
      "    (4): Linear(in_features=64, out_features=64, bias=True)\n",
      "    (5): ReLU()\n",
      "    (6): Linear(in_features=64, out_features=10, bias=True)\n",
      "  )\n",
      ")\n",
      "Current model hyperparameters: hs=64,hl=3,e=5,bs=64\n"
     ]
    },
    {
     "name": "stderr",
     "output_type": "stream",
     "text": [
      "100%|██████████| 493/493 [00:01<00:00, 369.71it/s]\n"
     ]
    },
    {
     "name": "stdout",
     "output_type": "stream",
     "text": [
      "EPOCH: 1, train loss: 0.882, train accuracy: 0.693, validation loss: 0.649, validation accuracy: 0.751\n"
     ]
    },
    {
     "name": "stderr",
     "output_type": "stream",
     "text": [
      "100%|██████████| 493/493 [00:01<00:00, 403.30it/s]\n"
     ]
    },
    {
     "name": "stdout",
     "output_type": "stream",
     "text": [
      "EPOCH: 2, train loss: 0.626, train accuracy: 0.771, validation loss: 0.647, validation accuracy: 0.763\n"
     ]
    },
    {
     "name": "stderr",
     "output_type": "stream",
     "text": [
      "100%|██████████| 493/493 [00:01<00:00, 380.38it/s]\n"
     ]
    },
    {
     "name": "stdout",
     "output_type": "stream",
     "text": [
      "EPOCH: 3, train loss: 0.572, train accuracy: 0.789, validation loss: 0.558, validation accuracy: 0.801\n"
     ]
    },
    {
     "name": "stderr",
     "output_type": "stream",
     "text": [
      "100%|██████████| 493/493 [00:01<00:00, 390.00it/s]\n"
     ]
    },
    {
     "name": "stdout",
     "output_type": "stream",
     "text": [
      "EPOCH: 4, train loss: 0.545, train accuracy: 0.800, validation loss: 0.553, validation accuracy: 0.796\n"
     ]
    },
    {
     "name": "stderr",
     "output_type": "stream",
     "text": [
      "100%|██████████| 493/493 [00:01<00:00, 381.56it/s]\n"
     ]
    },
    {
     "name": "stdout",
     "output_type": "stream",
     "text": [
      "EPOCH: 5, train loss: 0.515, train accuracy: 0.807, validation loss: 0.533, validation accuracy: 0.805\n"
     ]
    }
   ],
   "source": [
    "hyperparameters = {\"hidden_size\": 64,\n",
    "                   \"hidden_layers\": 3,\n",
    "                   \"epochs\": 5,\n",
    "                   \"batch_size\": 64}\n",
    "\n",
    "csv_exporter = CSVExporter(list(hyperparameters.keys()))\n",
    "\n",
    "train(model=NeuralNetwork,\n",
    "      train_data=train_data, val_data=val_data,\n",
    "      tag=\"test\", csv_exporter=csv_exporter,\n",
    "      **hyperparameters)\n",
    "\n",
    "csv_exporter.save()"
   ],
   "metadata": {
    "collapsed": false,
    "ExecuteTime": {
     "end_time": "2024-05-13T14:52:00.707194Z",
     "start_time": "2024-05-13T14:51:52.005738Z"
    }
   },
   "execution_count": 123
  },
  {
   "cell_type": "markdown",
   "source": [
    "### Experimentation with depth and unit size"
   ],
   "metadata": {
    "collapsed": false
   }
  },
  {
   "cell_type": "markdown",
   "source": [
    "Now, lets experiment with hidden layer sizes and number of hidden layers:"
   ],
   "metadata": {
    "collapsed": false
   }
  },
  {
   "cell_type": "code",
   "outputs": [
    {
     "name": "stdout",
     "output_type": "stream",
     "text": [
      "Hyperparameter space size:  80\n"
     ]
    }
   ],
   "source": [
    "hparams = {\n",
    "    \"hidden_size\": [32, 64, 128, 256],\n",
    "    \"hidden_layers\": range(1, 5),\n",
    "    \"epochs\": [20],\n",
    "    \"batch_size\": [32, 128, 512, 2048, 8192]\n",
    "}\n",
    "hparams_grid = ParameterGrid(hparams)\n",
    "print(\"Hyperparameter space size: \", len(hparams_grid))\n"
   ],
   "metadata": {
    "collapsed": false,
    "ExecuteTime": {
     "end_time": "2024-05-13T10:26:31.374359Z",
     "start_time": "2024-05-13T10:26:31.370709Z"
    }
   },
   "execution_count": 74
  },
  {
   "cell_type": "code",
   "outputs": [
    {
     "name": "stderr",
     "output_type": "stream",
     "text": [
      "100%|██████████| 80/80 [38:58<00:00, 29.23s/it]  \n"
     ]
    }
   ],
   "source": [
    "for params in tqdm(hparams_grid, total=len(hparams_grid)):\n",
    "    csv_exporter = CSVExporter(list(hparams.keys()))\n",
    "    train(NeuralNetwork, train_data, val_data, tag=\"depth_and_size_experimentation\", disable_output=True,\n",
    "          print_summary=False, csv_exporter=csv_exporter, **params)\n",
    "    csv_exporter.save()"
   ],
   "metadata": {
    "collapsed": false,
    "ExecuteTime": {
     "end_time": "2024-05-13T12:21:11.795412Z",
     "start_time": "2024-05-13T11:42:13.427328Z"
    }
   },
   "execution_count": 86
  },
  {
   "cell_type": "markdown",
   "source": [
    "Now we will explore results and try to get some useful insights.\n",
    "\n",
    "First we will look at Tensorboard. To use tensorboard we run in the shell `tensorboard --log_dir=logs/depth_and_size_experimentation` to see visualizations of training results.\n",
    "\n",
    "![](images/depth_size_exp/all_rd_42.png)"
   ],
   "metadata": {
    "collapsed": false
   }
  },
  {
   "cell_type": "markdown",
   "source": [
    "This gives us a broad picture of the training.\n",
    "\n",
    "The `Accuracy` and `Loss` plots without `train` or `validation` suffixes show both train and validation results on the same plot, while plots with suffixes show `train` and `validation` separately. Still this is a big mess.\n",
    "\n",
    "Generally we see that $20$ epochs is a point where the validation score almost stops improving much or even for some hyperparameters starts to worsen (over-fitting).\n",
    "\n",
    "Another interesting detail - while training score os quite smooth (mostly), validation score is quite spiky, which may imply that after each gradient step we encounter some \"wall\" in parameter space:\n",
    "\n",
    "![](images/parameter_space_spikes.png)\n",
    "Deep Learning Book, Goodfellow\n",
    "\n",
    "\n",
    "Now we will find the best hyperparameters and also look at top of best models to see which hyperparameters were best in general."
   ],
   "metadata": {
    "collapsed": false
   }
  },
  {
   "cell_type": "code",
   "outputs": [
    {
     "data": {
      "text/plain": "                                    log_name                             tag  \\\n0  2024-05-13_13:42:13_bs=32,e=20,hl=1,hs=32  depth_and_size_experimentation   \n1  2024-05-13_13:42:13_bs=32,e=20,hl=1,hs=32  depth_and_size_experimentation   \n2  2024-05-13_13:42:13_bs=32,e=20,hl=1,hs=32  depth_and_size_experimentation   \n3  2024-05-13_13:42:13_bs=32,e=20,hl=1,hs=32  depth_and_size_experimentation   \n4  2024-05-13_13:42:13_bs=32,e=20,hl=1,hs=32  depth_and_size_experimentation   \n\n   hidden_size  hidden_layers  epochs  batch_size  train_loss  train_acc  \\\n0           32              1       1          32    1.904417   0.353714   \n1           32              1       2          32    1.291896   0.499206   \n2           32              1       3          32    1.058130   0.605905   \n3           32              1       4          32    0.914417   0.662381   \n4           32              1       5          32    0.883898   0.667778   \n\n   val_loss   val_acc  \n0  1.447754  0.445429  \n1  1.210513  0.541762  \n2  0.966570  0.654952  \n3  0.869516  0.678476  \n4  0.968250  0.636000  ",
      "text/html": "<div>\n<style scoped>\n    .dataframe tbody tr th:only-of-type {\n        vertical-align: middle;\n    }\n\n    .dataframe tbody tr th {\n        vertical-align: top;\n    }\n\n    .dataframe thead th {\n        text-align: right;\n    }\n</style>\n<table border=\"1\" class=\"dataframe\">\n  <thead>\n    <tr style=\"text-align: right;\">\n      <th></th>\n      <th>log_name</th>\n      <th>tag</th>\n      <th>hidden_size</th>\n      <th>hidden_layers</th>\n      <th>epochs</th>\n      <th>batch_size</th>\n      <th>train_loss</th>\n      <th>train_acc</th>\n      <th>val_loss</th>\n      <th>val_acc</th>\n    </tr>\n  </thead>\n  <tbody>\n    <tr>\n      <th>0</th>\n      <td>2024-05-13_13:42:13_bs=32,e=20,hl=1,hs=32</td>\n      <td>depth_and_size_experimentation</td>\n      <td>32</td>\n      <td>1</td>\n      <td>1</td>\n      <td>32</td>\n      <td>1.904417</td>\n      <td>0.353714</td>\n      <td>1.447754</td>\n      <td>0.445429</td>\n    </tr>\n    <tr>\n      <th>1</th>\n      <td>2024-05-13_13:42:13_bs=32,e=20,hl=1,hs=32</td>\n      <td>depth_and_size_experimentation</td>\n      <td>32</td>\n      <td>1</td>\n      <td>2</td>\n      <td>32</td>\n      <td>1.291896</td>\n      <td>0.499206</td>\n      <td>1.210513</td>\n      <td>0.541762</td>\n    </tr>\n    <tr>\n      <th>2</th>\n      <td>2024-05-13_13:42:13_bs=32,e=20,hl=1,hs=32</td>\n      <td>depth_and_size_experimentation</td>\n      <td>32</td>\n      <td>1</td>\n      <td>3</td>\n      <td>32</td>\n      <td>1.058130</td>\n      <td>0.605905</td>\n      <td>0.966570</td>\n      <td>0.654952</td>\n    </tr>\n    <tr>\n      <th>3</th>\n      <td>2024-05-13_13:42:13_bs=32,e=20,hl=1,hs=32</td>\n      <td>depth_and_size_experimentation</td>\n      <td>32</td>\n      <td>1</td>\n      <td>4</td>\n      <td>32</td>\n      <td>0.914417</td>\n      <td>0.662381</td>\n      <td>0.869516</td>\n      <td>0.678476</td>\n    </tr>\n    <tr>\n      <th>4</th>\n      <td>2024-05-13_13:42:13_bs=32,e=20,hl=1,hs=32</td>\n      <td>depth_and_size_experimentation</td>\n      <td>32</td>\n      <td>1</td>\n      <td>5</td>\n      <td>32</td>\n      <td>0.883898</td>\n      <td>0.667778</td>\n      <td>0.968250</td>\n      <td>0.636000</td>\n    </tr>\n  </tbody>\n</table>\n</div>"
     },
     "execution_count": 89,
     "metadata": {},
     "output_type": "execute_result"
    }
   ],
   "source": [
    "df_results = pd.read_csv('logs/results.csv')\n",
    "df_depth_size_exp = df_results[df_results['tag'] == 'depth_and_size_experimentation']\n",
    "df_depth_size_exp.head()"
   ],
   "metadata": {
    "collapsed": false,
    "ExecuteTime": {
     "end_time": "2024-05-13T12:58:31.068640Z",
     "start_time": "2024-05-13T12:58:31.057766Z"
    }
   },
   "execution_count": 89
  },
  {
   "cell_type": "code",
   "outputs": [
    {
     "data": {
      "text/plain": "log_name         2024-05-13_14:15:16_bs=2048,e=20,hl=4,hs=256\ntag                            depth_and_size_experimentation\nhidden_size                                               256\nhidden_layers                                               4\nepochs                                                     15\nbatch_size                                               2048\ntrain_loss                                           0.334701\ntrain_acc                                            0.875778\nval_loss                                             0.442879\nval_acc                                               0.84581\nName: 1274, dtype: object"
     },
     "execution_count": 90,
     "metadata": {},
     "output_type": "execute_result"
    }
   ],
   "source": [
    "best_model_index = df_depth_size_exp['val_loss'].idxmin()\n",
    "df_depth_size_exp.loc[best_model_index]"
   ],
   "metadata": {
    "collapsed": false,
    "ExecuteTime": {
     "end_time": "2024-05-13T12:58:34.640018Z",
     "start_time": "2024-05-13T12:58:34.635259Z"
    }
   },
   "execution_count": 90
  },
  {
   "cell_type": "markdown",
   "source": [
    "We see that the best validation loss score is $\\approx 0.443$ in epoch $15$:\n",
    "\n",
    "![](images/depth_size_exp/best_model_loss.png)\n",
    "\n",
    "The best accuracy $\\approx 0.849$ is in epoch $19$:\n",
    "\n",
    "![](images/depth_size_exp/best_model_acc.png)\n"
   ],
   "metadata": {
    "collapsed": false
   }
  },
  {
   "cell_type": "markdown",
   "source": [
    "Now we will try to guess best hyperparameters for this task by looking on top models, which hyperparameters they have.\n",
    "\n",
    "Before that we can say:\n",
    "- more hidden layers and units we have, the better is our model's capacity to solve the task, though very high capacity may lead to overfitting.\n",
    "- more layers makes neural network much harder to train, because of computational load and vanishing/exploding gradients.\n",
    "- large batch size may speed up training process significantly, if we have enough memory to store the whole batch, and smaller batch sizes lead to better generalization, because of some noise introduced by a smaller subset of data."
   ],
   "metadata": {
    "collapsed": false
   }
  },
  {
   "cell_type": "code",
   "outputs": [
    {
     "data": {
      "text/plain": "       hidden_size  hidden_layers     epochs   batch_size  train_loss  \\\ncount    95.000000      95.000000  95.000000    95.000000   95.000000   \nmean    206.147368       3.547368  15.673684   652.463158    0.343992   \nstd      66.784660       0.631924   3.193884   725.299378    0.038422   \nmin      64.000000       2.000000   6.000000    32.000000    0.260462   \n25%     128.000000       3.000000  13.000000   128.000000    0.316346   \n50%     256.000000       4.000000  16.000000   512.000000    0.344777   \n75%     256.000000       4.000000  18.000000   512.000000    0.374269   \nmax     256.000000       4.000000  20.000000  2048.000000    0.442382   \n\n       train_acc   val_loss    val_acc  \ncount  95.000000  95.000000  95.000000  \nmean    0.871130   0.480604   0.836223  \nstd     0.013959   0.020569   0.004348  \nmin     0.834095   0.442879   0.830048  \n25%     0.860921   0.466400   0.833357  \n50%     0.871016   0.479666   0.835619  \n75%     0.881746   0.493571   0.838619  \nmax     0.902825   0.531887   0.849190  ",
      "text/html": "<div>\n<style scoped>\n    .dataframe tbody tr th:only-of-type {\n        vertical-align: middle;\n    }\n\n    .dataframe tbody tr th {\n        vertical-align: top;\n    }\n\n    .dataframe thead th {\n        text-align: right;\n    }\n</style>\n<table border=\"1\" class=\"dataframe\">\n  <thead>\n    <tr style=\"text-align: right;\">\n      <th></th>\n      <th>hidden_size</th>\n      <th>hidden_layers</th>\n      <th>epochs</th>\n      <th>batch_size</th>\n      <th>train_loss</th>\n      <th>train_acc</th>\n      <th>val_loss</th>\n      <th>val_acc</th>\n    </tr>\n  </thead>\n  <tbody>\n    <tr>\n      <th>count</th>\n      <td>95.000000</td>\n      <td>95.000000</td>\n      <td>95.000000</td>\n      <td>95.000000</td>\n      <td>95.000000</td>\n      <td>95.000000</td>\n      <td>95.000000</td>\n      <td>95.000000</td>\n    </tr>\n    <tr>\n      <th>mean</th>\n      <td>206.147368</td>\n      <td>3.547368</td>\n      <td>15.673684</td>\n      <td>652.463158</td>\n      <td>0.343992</td>\n      <td>0.871130</td>\n      <td>0.480604</td>\n      <td>0.836223</td>\n    </tr>\n    <tr>\n      <th>std</th>\n      <td>66.784660</td>\n      <td>0.631924</td>\n      <td>3.193884</td>\n      <td>725.299378</td>\n      <td>0.038422</td>\n      <td>0.013959</td>\n      <td>0.020569</td>\n      <td>0.004348</td>\n    </tr>\n    <tr>\n      <th>min</th>\n      <td>64.000000</td>\n      <td>2.000000</td>\n      <td>6.000000</td>\n      <td>32.000000</td>\n      <td>0.260462</td>\n      <td>0.834095</td>\n      <td>0.442879</td>\n      <td>0.830048</td>\n    </tr>\n    <tr>\n      <th>25%</th>\n      <td>128.000000</td>\n      <td>3.000000</td>\n      <td>13.000000</td>\n      <td>128.000000</td>\n      <td>0.316346</td>\n      <td>0.860921</td>\n      <td>0.466400</td>\n      <td>0.833357</td>\n    </tr>\n    <tr>\n      <th>50%</th>\n      <td>256.000000</td>\n      <td>4.000000</td>\n      <td>16.000000</td>\n      <td>512.000000</td>\n      <td>0.344777</td>\n      <td>0.871016</td>\n      <td>0.479666</td>\n      <td>0.835619</td>\n    </tr>\n    <tr>\n      <th>75%</th>\n      <td>256.000000</td>\n      <td>4.000000</td>\n      <td>18.000000</td>\n      <td>512.000000</td>\n      <td>0.374269</td>\n      <td>0.881746</td>\n      <td>0.493571</td>\n      <td>0.838619</td>\n    </tr>\n    <tr>\n      <th>max</th>\n      <td>256.000000</td>\n      <td>4.000000</td>\n      <td>20.000000</td>\n      <td>2048.000000</td>\n      <td>0.442382</td>\n      <td>0.902825</td>\n      <td>0.531887</td>\n      <td>0.849190</td>\n    </tr>\n  </tbody>\n</table>\n</div>"
     },
     "execution_count": 107,
     "metadata": {},
     "output_type": "execute_result"
    }
   ],
   "source": [
    "# consider all models with value accuracy higher than certain limit\n",
    "df_dse_top = df_depth_size_exp[df_depth_size_exp['val_acc'] >= 0.83]\n",
    "df_dse_top.describe()"
   ],
   "metadata": {
    "collapsed": false,
    "ExecuteTime": {
     "end_time": "2024-05-13T13:44:07.900371Z",
     "start_time": "2024-05-13T13:44:07.882538Z"
    }
   },
   "execution_count": 107
  },
  {
   "cell_type": "markdown",
   "source": [
    "We see some important information here, for example withing top models, what were mean values of hyperparameters.\n",
    " \n",
    "But let's see actual distributions:"
   ],
   "metadata": {
    "collapsed": false
   }
  },
  {
   "cell_type": "code",
   "outputs": [
    {
     "data": {
      "text/plain": "<Figure size 1500x1000 with 4 Axes>",
      "image/png": "[encoded data removed]"
     },
     "metadata": {},
     "output_type": "display_data"
    }
   ],
   "source": [
    "fig = plt.figure(figsize=(15, 10), constrained_layout=True)\n",
    "params = ['hidden_layers', 'hidden_size', 'batch_size', 'epochs']\n",
    "for i, param in enumerate(params):\n",
    "    ax = fig.add_subplot(2, 2, i + 1)\n",
    "    df_dse_top[param].hist(ax=ax)\n",
    "    ax.set_title(param)\n",
    "\n",
    "plt.show()"
   ],
   "metadata": {
    "collapsed": false,
    "ExecuteTime": {
     "end_time": "2024-05-13T13:58:06.790851Z",
     "start_time": "2024-05-13T13:58:06.062117Z"
    }
   },
   "execution_count": 120
  },
  {
   "cell_type": "markdown",
   "source": [
    "We see that we can constraint our hyperparameter space to:\n",
    "- smaller batch sizes (32 - 512)\n",
    "- more hidden layers (3-4)\n",
    "- more hidden units (128 - 256)\n",
    "\n",
    "Now we will proceed adding some regularization."
   ],
   "metadata": {
    "collapsed": false
   }
  },
  {
   "cell_type": "markdown",
   "source": [
    "### Experimentation with regularization"
   ],
   "metadata": {
    "collapsed": false
   }
  },
  {
   "cell_type": "markdown",
   "source": [
    "For regularization we will try 3 hyperparameters:\n",
    "- dropout - prevents overfitting, improving generalization. Disables a fraction of neurons.\n",
    "- weight decay - L2 regularization of weights, same as in Linear Regression, but now we penalize all the weights in the model. This can prevent overfitting of the model.\n",
    "- label smoothing - technique to reduce overfitting, making model less overconfident. If softens the distribution of label. This will allow some freedom to our model to predict correctly some images which can look similar to other classes."
   ],
   "metadata": {
    "collapsed": false
   }
  },
  {
   "cell_type": "code",
   "outputs": [
    {
     "name": "stdout",
     "output_type": "stream",
     "text": [
      "NeuralNetwork(\n",
      "  (sequential): Sequential(\n",
      "    (0): Linear(in_features=1024, out_features=256, bias=True)\n",
      "    (1): ReLU()\n",
      "    (2): Dropout(p=0.1, inplace=False)\n",
      "    (3): Linear(in_features=256, out_features=256, bias=True)\n",
      "    (4): ReLU()\n",
      "    (5): Dropout(p=0.1, inplace=False)\n",
      "    (6): Linear(in_features=256, out_features=256, bias=True)\n",
      "    (7): ReLU()\n",
      "    (8): Dropout(p=0.1, inplace=False)\n",
      "    (9): Linear(in_features=256, out_features=256, bias=True)\n",
      "    (10): ReLU()\n",
      "    (11): Dropout(p=0.1, inplace=False)\n",
      "    (12): Linear(in_features=256, out_features=10, bias=True)\n",
      "  )\n",
      ")\n",
      "Current model hyperparameters: hs=256,hl=4,e=5,bs=256,wd=0.0001,ls=0.1,d=0.1\n"
     ]
    },
    {
     "name": "stderr",
     "output_type": "stream",
     "text": [
      "100%|██████████| 124/124 [00:01<00:00, 93.50it/s] \n"
     ]
    },
    {
     "name": "stdout",
     "output_type": "stream",
     "text": [
      "EPOCH: 1, train loss: 1.301, train accuracy: 0.656, validation loss: 1.086, validation accuracy: 0.751\n"
     ]
    },
    {
     "name": "stderr",
     "output_type": "stream",
     "text": [
      "100%|██████████| 124/124 [00:01<00:00, 98.95it/s] \n"
     ]
    },
    {
     "name": "stdout",
     "output_type": "stream",
     "text": [
      "EPOCH: 2, train loss: 1.061, train accuracy: 0.763, validation loss: 0.991, validation accuracy: 0.787\n"
     ]
    },
    {
     "name": "stderr",
     "output_type": "stream",
     "text": [
      "100%|██████████| 124/124 [00:01<00:00, 103.26it/s]\n"
     ]
    },
    {
     "name": "stdout",
     "output_type": "stream",
     "text": [
      "EPOCH: 3, train loss: 1.010, train accuracy: 0.783, validation loss: 0.970, validation accuracy: 0.795\n"
     ]
    },
    {
     "name": "stderr",
     "output_type": "stream",
     "text": [
      "100%|██████████| 124/124 [00:01<00:00, 91.67it/s]\n"
     ]
    },
    {
     "name": "stdout",
     "output_type": "stream",
     "text": [
      "EPOCH: 4, train loss: 0.978, train accuracy: 0.800, validation loss: 0.957, validation accuracy: 0.797\n"
     ]
    },
    {
     "name": "stderr",
     "output_type": "stream",
     "text": [
      "100%|██████████| 124/124 [00:01<00:00, 97.77it/s]\n"
     ]
    },
    {
     "name": "stdout",
     "output_type": "stream",
     "text": [
      "EPOCH: 5, train loss: 0.962, train accuracy: 0.806, validation loss: 0.934, validation accuracy: 0.813\n"
     ]
    }
   ],
   "source": [
    "hyperparameters = {\n",
    "    \"hidden_size\": 256,\n",
    "    \"hidden_layers\": 4,\n",
    "    \"epochs\": 5,\n",
    "    \"batch_size\": 256,\n",
    "    \"weight_decay\": 1e-4,\n",
    "    \"label_smoothing\": 0.1,\n",
    "    \"dropout\": 0.1\n",
    "}\n",
    "\n",
    "csv_exporter = CSVExporter(list(hyperparameters.keys()))\n",
    "\n",
    "train(model=NeuralNetwork,\n",
    "      train_data=train_data, val_data=val_data,\n",
    "      tag=\"test\", csv_exporter=csv_exporter,\n",
    "      **hyperparameters)\n",
    "\n",
    "csv_exporter.save()"
   ],
   "metadata": {
    "collapsed": false,
    "ExecuteTime": {
     "end_time": "2024-05-13T16:54:05.893806Z",
     "start_time": "2024-05-13T16:53:57.023069Z"
    }
   },
   "execution_count": 161
  },
  {
   "cell_type": "code",
   "outputs": [
    {
     "name": "stdout",
     "output_type": "stream",
     "text": [
      "Hyperparameter space size:  72\n"
     ]
    }
   ],
   "source": [
    "hparams = {\n",
    "    \"hidden_size\": [128, 256],\n",
    "    \"hidden_layers\": [3, 4],\n",
    "    \"epochs\": [20],\n",
    "    \"batch_size\": [256],\n",
    "    \"weight_decay\": [0.0, 1e-4, 1e-2],\n",
    "    \"label_smoothing\": [0.0, 0.1],\n",
    "    \"dropout\": [0.0, 0.1, 0.3]\n",
    "}\n",
    "hparams_grid = ParameterGrid(hparams)\n",
    "print(\"Hyperparameter space size: \", len(hparams_grid))"
   ],
   "metadata": {
    "collapsed": false,
    "ExecuteTime": {
     "end_time": "2024-05-13T15:10:12.722974Z",
     "start_time": "2024-05-13T15:10:12.719740Z"
    }
   },
   "execution_count": 135
  },
  {
   "cell_type": "code",
   "outputs": [
    {
     "name": "stderr",
     "output_type": "stream",
     "text": [
      "100%|██████████| 72/72 [37:47<00:00, 31.49s/it]\n"
     ]
    }
   ],
   "source": [
    "for params in tqdm(hparams_grid, total=len(hparams_grid)):\n",
    "    csv_exporter = CSVExporter(list(hparams.keys()))\n",
    "    train(NeuralNetwork, train_data, val_data, tag=\"ffnn_regularization\", disable_output=True,\n",
    "          print_summary=False, csv_exporter=csv_exporter, **params)\n",
    "    csv_exporter.save()"
   ],
   "metadata": {
    "collapsed": false,
    "ExecuteTime": {
     "end_time": "2024-05-13T15:48:02.937138Z",
     "start_time": "2024-05-13T15:10:15.835902Z"
    }
   },
   "execution_count": 136
  },
  {
   "cell_type": "markdown",
   "source": [
    "![](images/ffnn_regularization/all.png)\n",
    "\n",
    "We can see that in validation loss there is a huge drop when label smoothing is used with $0.1$ value. This is a very interesting detail. By smoothing labels a lot of images are classified improperly. The reason may be that there are some images that have different labels, but are very similar visually, so when we make our model less confident about the label, it starts to predict poorly."
   ],
   "metadata": {
    "collapsed": false
   }
  },
  {
   "cell_type": "code",
   "outputs": [
    {
     "data": {
      "text/plain": "                                               log_name                  tag  \\\n1610  2024-05-13_16:59:46_bs=128,d=0.0,e=20,hl=3,hs=...  ffnn_regularization   \n1611  2024-05-13_16:59:46_bs=128,d=0.0,e=20,hl=3,hs=...  ffnn_regularization   \n1612  2024-05-13_16:59:46_bs=128,d=0.0,e=20,hl=3,hs=...  ffnn_regularization   \n1613  2024-05-13_16:59:46_bs=128,d=0.0,e=20,hl=3,hs=...  ffnn_regularization   \n1614  2024-05-13_16:59:46_bs=128,d=0.0,e=20,hl=3,hs=...  ffnn_regularization   \n\n      hidden_size  hidden_layers  epochs  batch_size  train_loss  train_acc  \\\n1610          128              3       1         128    0.902039   0.695238   \n1611          128              3       2         128    0.612404   0.775746   \n1612          128              3       3         128    0.565688   0.789587   \n1613          128              3       4         128    0.527441   0.805302   \n1614          128              3       5         128    0.477242   0.821968   \n\n      val_loss   val_acc  weight_decay  label_smoothing  dropout  \n1610  0.688032  0.755667           0.0              0.0      0.0  \n1611  0.594963  0.778190           0.0              0.0      0.0  \n1612  0.561931  0.798429           0.0              0.0      0.0  \n1613  0.524727  0.809524           0.0              0.0      0.0  \n1614  0.623681  0.769095           0.0              0.0      0.0  ",
      "text/html": "<div>\n<style scoped>\n    .dataframe tbody tr th:only-of-type {\n        vertical-align: middle;\n    }\n\n    .dataframe tbody tr th {\n        vertical-align: top;\n    }\n\n    .dataframe thead th {\n        text-align: right;\n    }\n</style>\n<table border=\"1\" class=\"dataframe\">\n  <thead>\n    <tr style=\"text-align: right;\">\n      <th></th>\n      <th>log_name</th>\n      <th>tag</th>\n      <th>hidden_size</th>\n      <th>hidden_layers</th>\n      <th>epochs</th>\n      <th>batch_size</th>\n      <th>train_loss</th>\n      <th>train_acc</th>\n      <th>val_loss</th>\n      <th>val_acc</th>\n      <th>weight_decay</th>\n      <th>label_smoothing</th>\n      <th>dropout</th>\n    </tr>\n  </thead>\n  <tbody>\n    <tr>\n      <th>1610</th>\n      <td>2024-05-13_16:59:46_bs=128,d=0.0,e=20,hl=3,hs=...</td>\n      <td>ffnn_regularization</td>\n      <td>128</td>\n      <td>3</td>\n      <td>1</td>\n      <td>128</td>\n      <td>0.902039</td>\n      <td>0.695238</td>\n      <td>0.688032</td>\n      <td>0.755667</td>\n      <td>0.0</td>\n      <td>0.0</td>\n      <td>0.0</td>\n    </tr>\n    <tr>\n      <th>1611</th>\n      <td>2024-05-13_16:59:46_bs=128,d=0.0,e=20,hl=3,hs=...</td>\n      <td>ffnn_regularization</td>\n      <td>128</td>\n      <td>3</td>\n      <td>2</td>\n      <td>128</td>\n      <td>0.612404</td>\n      <td>0.775746</td>\n      <td>0.594963</td>\n      <td>0.778190</td>\n      <td>0.0</td>\n      <td>0.0</td>\n      <td>0.0</td>\n    </tr>\n    <tr>\n      <th>1612</th>\n      <td>2024-05-13_16:59:46_bs=128,d=0.0,e=20,hl=3,hs=...</td>\n      <td>ffnn_regularization</td>\n      <td>128</td>\n      <td>3</td>\n      <td>3</td>\n      <td>128</td>\n      <td>0.565688</td>\n      <td>0.789587</td>\n      <td>0.561931</td>\n      <td>0.798429</td>\n      <td>0.0</td>\n      <td>0.0</td>\n      <td>0.0</td>\n    </tr>\n    <tr>\n      <th>1613</th>\n      <td>2024-05-13_16:59:46_bs=128,d=0.0,e=20,hl=3,hs=...</td>\n      <td>ffnn_regularization</td>\n      <td>128</td>\n      <td>3</td>\n      <td>4</td>\n      <td>128</td>\n      <td>0.527441</td>\n      <td>0.805302</td>\n      <td>0.524727</td>\n      <td>0.809524</td>\n      <td>0.0</td>\n      <td>0.0</td>\n      <td>0.0</td>\n    </tr>\n    <tr>\n      <th>1614</th>\n      <td>2024-05-13_16:59:46_bs=128,d=0.0,e=20,hl=3,hs=...</td>\n      <td>ffnn_regularization</td>\n      <td>128</td>\n      <td>3</td>\n      <td>5</td>\n      <td>128</td>\n      <td>0.477242</td>\n      <td>0.821968</td>\n      <td>0.623681</td>\n      <td>0.769095</td>\n      <td>0.0</td>\n      <td>0.0</td>\n      <td>0.0</td>\n    </tr>\n  </tbody>\n</table>\n</div>"
     },
     "execution_count": 137,
     "metadata": {},
     "output_type": "execute_result"
    }
   ],
   "source": [
    "df_results = pd.read_csv('logs/results.csv')\n",
    "df_fr = df_results[df_results['tag'] == 'ffnn_regularization']\n",
    "df_fr.head()"
   ],
   "metadata": {
    "collapsed": false,
    "ExecuteTime": {
     "end_time": "2024-05-13T15:54:55.518516Z",
     "start_time": "2024-05-13T15:54:55.498874Z"
    }
   },
   "execution_count": 137
  },
  {
   "cell_type": "code",
   "outputs": [
    {
     "data": {
      "text/plain": "log_name           2024-05-13_17:31:10_bs=256,d=0.1,e=20,hl=4,hs=...\ntag                                              ffnn_regularization\nhidden_size                                                      256\nhidden_layers                                                      4\nepochs                                                            15\nbatch_size                                                       256\ntrain_loss                                                  0.415928\ntrain_acc                                                   0.844127\nval_loss                                                    0.445597\nval_acc                                                     0.838333\nweight_decay                                                  0.0001\nlabel_smoothing                                                  0.0\ndropout                                                          0.1\nName: 2709, dtype: object"
     },
     "execution_count": 140,
     "metadata": {},
     "output_type": "execute_result"
    }
   ],
   "source": [
    "best_model_index = df_fr['val_loss'].idxmin()\n",
    "df_fr.loc[best_model_index]"
   ],
   "metadata": {
    "collapsed": false,
    "ExecuteTime": {
     "end_time": "2024-05-13T15:58:37.456476Z",
     "start_time": "2024-05-13T15:58:37.452156Z"
    }
   },
   "execution_count": 140
  },
  {
   "cell_type": "markdown",
   "source": [
    "Best model with regularization has validation loss $\\approx 0.445$ and validation accuracy $\\approx 0.838$.\n",
    "\n",
    "![](images/ffnn_regularization/best_model_acc.png)\n",
    "![](images/ffnn_regularization/best_model_loss.png)\n",
    "\n",
    "Lets look now what is the best model overall:"
   ],
   "metadata": {
    "collapsed": false
   }
  },
  {
   "cell_type": "code",
   "outputs": [
    {
     "data": {
      "text/plain": "log_name           2024-05-13_14:15:16_bs=2048,e=20,hl=4,hs=256\ntag                              depth_and_size_experimentation\nhidden_size                                                 256\nhidden_layers                                                 4\nepochs                                                       15\nbatch_size                                                 2048\ntrain_loss                                             0.334701\ntrain_acc                                              0.875778\nval_loss                                               0.442879\nval_acc                                                 0.84581\nweight_decay                                                NaN\nlabel_smoothing                                             NaN\ndropout                                                     NaN\nName: 1274, dtype: object"
     },
     "execution_count": 141,
     "metadata": {},
     "output_type": "execute_result"
    }
   ],
   "source": [
    "best_model_index = df_results['val_loss'].idxmin()\n",
    "df_results.loc[best_model_index]"
   ],
   "metadata": {
    "collapsed": false,
    "ExecuteTime": {
     "end_time": "2024-05-13T16:09:41.917392Z",
     "start_time": "2024-05-13T16:09:41.913074Z"
    }
   },
   "execution_count": 141
  },
  {
   "cell_type": "markdown",
   "source": [
    "We see that the use of dropout and weight decay in overall didn't improve results. Let's analyze top overall models:"
   ],
   "metadata": {
    "collapsed": false
   }
  },
  {
   "cell_type": "code",
   "outputs": [
    {
     "data": {
      "text/plain": "       hidden_size  hidden_layers      epochs   batch_size  train_loss  \\\ncount   100.000000     100.000000  100.000000   100.000000  100.000000   \nmean    211.200000       3.580000   14.560000   608.000000    0.386133   \nstd      61.359678       0.535224    3.300811   687.588319    0.049641   \nmin     128.000000       2.000000    7.000000   128.000000    0.287839   \n25%     128.000000       3.000000   12.000000   256.000000    0.346810   \n50%     256.000000       4.000000   15.000000   256.000000    0.389839   \n75%     256.000000       4.000000   17.000000   512.000000    0.426007   \nmax     256.000000       4.000000   20.000000  2048.000000    0.483391   \n\n        train_acc    val_loss     val_acc  weight_decay  label_smoothing  \\\ncount  100.000000  100.000000  100.000000     56.000000             56.0   \nmean     0.855166    0.464846    0.834808      0.001643              0.0   \nstd      0.018729    0.008455    0.005314      0.003690              0.0   \nmin      0.817905    0.442879    0.823333      0.000000              0.0   \n25%      0.839754    0.460844    0.830833      0.000000              0.0   \n50%      0.853127    0.466658    0.834167      0.000100              0.0   \n75%      0.870643    0.471727    0.838333      0.000100              0.0   \nmax      0.892698    0.475816    0.849190      0.010000              0.0   \n\n         dropout  \ncount  56.000000  \nmean    0.055357  \nstd     0.050162  \nmin     0.000000  \n25%     0.000000  \n50%     0.100000  \n75%     0.100000  \nmax     0.100000  ",
      "text/html": "<div>\n<style scoped>\n    .dataframe tbody tr th:only-of-type {\n        vertical-align: middle;\n    }\n\n    .dataframe tbody tr th {\n        vertical-align: top;\n    }\n\n    .dataframe thead th {\n        text-align: right;\n    }\n</style>\n<table border=\"1\" class=\"dataframe\">\n  <thead>\n    <tr style=\"text-align: right;\">\n      <th></th>\n      <th>hidden_size</th>\n      <th>hidden_layers</th>\n      <th>epochs</th>\n      <th>batch_size</th>\n      <th>train_loss</th>\n      <th>train_acc</th>\n      <th>val_loss</th>\n      <th>val_acc</th>\n      <th>weight_decay</th>\n      <th>label_smoothing</th>\n      <th>dropout</th>\n    </tr>\n  </thead>\n  <tbody>\n    <tr>\n      <th>count</th>\n      <td>100.000000</td>\n      <td>100.000000</td>\n      <td>100.000000</td>\n      <td>100.000000</td>\n      <td>100.000000</td>\n      <td>100.000000</td>\n      <td>100.000000</td>\n      <td>100.000000</td>\n      <td>56.000000</td>\n      <td>56.0</td>\n      <td>56.000000</td>\n    </tr>\n    <tr>\n      <th>mean</th>\n      <td>211.200000</td>\n      <td>3.580000</td>\n      <td>14.560000</td>\n      <td>608.000000</td>\n      <td>0.386133</td>\n      <td>0.855166</td>\n      <td>0.464846</td>\n      <td>0.834808</td>\n      <td>0.001643</td>\n      <td>0.0</td>\n      <td>0.055357</td>\n    </tr>\n    <tr>\n      <th>std</th>\n      <td>61.359678</td>\n      <td>0.535224</td>\n      <td>3.300811</td>\n      <td>687.588319</td>\n      <td>0.049641</td>\n      <td>0.018729</td>\n      <td>0.008455</td>\n      <td>0.005314</td>\n      <td>0.003690</td>\n      <td>0.0</td>\n      <td>0.050162</td>\n    </tr>\n    <tr>\n      <th>min</th>\n      <td>128.000000</td>\n      <td>2.000000</td>\n      <td>7.000000</td>\n      <td>128.000000</td>\n      <td>0.287839</td>\n      <td>0.817905</td>\n      <td>0.442879</td>\n      <td>0.823333</td>\n      <td>0.000000</td>\n      <td>0.0</td>\n      <td>0.000000</td>\n    </tr>\n    <tr>\n      <th>25%</th>\n      <td>128.000000</td>\n      <td>3.000000</td>\n      <td>12.000000</td>\n      <td>256.000000</td>\n      <td>0.346810</td>\n      <td>0.839754</td>\n      <td>0.460844</td>\n      <td>0.830833</td>\n      <td>0.000000</td>\n      <td>0.0</td>\n      <td>0.000000</td>\n    </tr>\n    <tr>\n      <th>50%</th>\n      <td>256.000000</td>\n      <td>4.000000</td>\n      <td>15.000000</td>\n      <td>256.000000</td>\n      <td>0.389839</td>\n      <td>0.853127</td>\n      <td>0.466658</td>\n      <td>0.834167</td>\n      <td>0.000100</td>\n      <td>0.0</td>\n      <td>0.100000</td>\n    </tr>\n    <tr>\n      <th>75%</th>\n      <td>256.000000</td>\n      <td>4.000000</td>\n      <td>17.000000</td>\n      <td>512.000000</td>\n      <td>0.426007</td>\n      <td>0.870643</td>\n      <td>0.471727</td>\n      <td>0.838333</td>\n      <td>0.000100</td>\n      <td>0.0</td>\n      <td>0.100000</td>\n    </tr>\n    <tr>\n      <th>max</th>\n      <td>256.000000</td>\n      <td>4.000000</td>\n      <td>20.000000</td>\n      <td>2048.000000</td>\n      <td>0.483391</td>\n      <td>0.892698</td>\n      <td>0.475816</td>\n      <td>0.849190</td>\n      <td>0.010000</td>\n      <td>0.0</td>\n      <td>0.100000</td>\n    </tr>\n  </tbody>\n</table>\n</div>"
     },
     "execution_count": 143,
     "metadata": {},
     "output_type": "execute_result"
    }
   ],
   "source": [
    "# fill missing hyperparameters with 0.0\n",
    "df_results.fillna(0.0)\n",
    "# consider all models with value accuracy higher than certain limit\n",
    "df_ffnn_overall_top = df_results.sort_values(by='val_loss').head(100)\n",
    "df_ffnn_overall_top.describe()"
   ],
   "metadata": {
    "collapsed": false,
    "ExecuteTime": {
     "end_time": "2024-05-13T16:13:18.563772Z",
     "start_time": "2024-05-13T16:13:18.533782Z"
    }
   },
   "execution_count": 143
  },
  {
   "cell_type": "code",
   "outputs": [
    {
     "data": {
      "text/plain": "<Figure size 1500x1000 with 7 Axes>",
      "image/png": "[encoded data removed]"
     },
     "metadata": {},
     "output_type": "display_data"
    }
   ],
   "source": [
    "fig = plt.figure(figsize=(15, 10), constrained_layout=True)\n",
    "params = ['hidden_layers', 'hidden_size', 'batch_size', 'epochs', 'weight_decay', 'label_smoothing', 'dropout']\n",
    "for i, param in enumerate(params):\n",
    "    ax = fig.add_subplot(4, 2, i + 1)\n",
    "    df_ffnn_overall_top[param].hist(ax=ax, bins=20)\n",
    "    ax.set_title(param)\n",
    "\n",
    "plt.show()"
   ],
   "metadata": {
    "collapsed": false,
    "ExecuteTime": {
     "end_time": "2024-05-13T16:16:14.045901Z",
     "start_time": "2024-05-13T16:16:12.781672Z"
    }
   },
   "execution_count": 146
  },
  {
   "cell_type": "markdown",
   "source": [
    "Before considering analysis of this data, lets first find out how many models are there with regularization and how many without regularization:"
   ],
   "metadata": {
    "collapsed": false
   }
  },
  {
   "cell_type": "code",
   "outputs": [
    {
     "name": "stdout",
     "output_type": "stream",
     "text": [
      "With regularization: 1660\n",
      "Without regularization: 1615\n"
     ]
    }
   ],
   "source": [
    "with_regularization = len(df_results[df_results['tag'] == 'ffnn_regularization'])\n",
    "without_regularization = len(df_results) - with_regularization\n",
    "print(f\"With regularization: {with_regularization}\")\n",
    "print(f\"Without regularization: {without_regularization}\")"
   ],
   "metadata": {
    "collapsed": false,
    "ExecuteTime": {
     "end_time": "2024-05-13T16:23:04.383738Z",
     "start_time": "2024-05-13T16:23:04.380098Z"
    }
   },
   "execution_count": 148
  },
  {
   "cell_type": "markdown",
   "source": [
    "Proportions are almost the same, thus we can assume there will be no data imbalance looking upon the upper histograms. \n",
    "But still we should remember that regularization was done on best hyperparameters from non-regularization experiments.\n",
    "\n",
    "Best models have:\n",
    "- some weight decay\n",
    "- some dropout\n"
   ],
   "metadata": {
    "collapsed": false
   }
  },
  {
   "cell_type": "markdown",
   "source": [
    "### Optimizers experiments"
   ],
   "metadata": {
    "collapsed": false
   }
  },
  {
   "cell_type": "markdown",
   "source": [
    "Because in previous section best models have:\n",
    "- some weight decay\n",
    "- some dropout\n",
    "\n",
    "We will try to train models with weight decay and dropout, but with other hyperparameters taken from the best models with regularization and without plus we will experiment optimizers: \n",
    "- Adam\n",
    "- SGD"
   ],
   "metadata": {
    "collapsed": false
   }
  },
  {
   "cell_type": "code",
   "outputs": [
    {
     "name": "stdout",
     "output_type": "stream",
     "text": [
      "Hyperparameter space size:  64\n"
     ]
    }
   ],
   "source": [
    "hparams = {\n",
    "    \"hidden_size\": [256],\n",
    "    \"hidden_layers\": [4],\n",
    "    \"epochs\": [30],\n",
    "    \"batch_size\": [256, 2048],  # 2048 because it has the best model overall\n",
    "    \"weight_decay\": [0.0, 1e-4, 1e-3, 1e-2],\n",
    "    \"dropout\": [0.0, 0.1, 0.2, 0.3],\n",
    "    \"optimizer\": [\"Adam\", \"SGD\"]\n",
    "}\n",
    "hparams_grid = ParameterGrid(hparams)\n",
    "print(\"Hyperparameter space size: \", len(hparams_grid))"
   ],
   "metadata": {
    "collapsed": false,
    "ExecuteTime": {
     "end_time": "2024-05-13T16:54:22.058536Z",
     "start_time": "2024-05-13T16:54:22.055316Z"
    }
   },
   "execution_count": 163
  },
  {
   "cell_type": "code",
   "outputs": [
    {
     "name": "stderr",
     "output_type": "stream",
     "text": [
      "100%|██████████| 64/64 [46:50<00:00, 43.91s/it] \n"
     ]
    }
   ],
   "source": [
    "for params in tqdm(hparams_grid, total=len(hparams_grid)):\n",
    "    csv_exporter = CSVExporter(list(hparams.keys()))\n",
    "    train(NeuralNetwork, train_data, val_data, tag=\"ffnn_optimizers\", disable_output=True,\n",
    "          print_summary=False, csv_exporter=csv_exporter, **params)\n",
    "    csv_exporter.save()"
   ],
   "metadata": {
    "collapsed": false,
    "ExecuteTime": {
     "end_time": "2024-05-13T17:41:19.446853Z",
     "start_time": "2024-05-13T16:54:29.383971Z"
    }
   },
   "execution_count": 164
  },
  {
   "cell_type": "markdown",
   "source": [
    "Both Adam and SGD:\n",
    "\n",
    "![](images/ffnn_optimizers/all.png)\n",
    "\n",
    "SGD only:\n",
    "\n",
    "![](images/ffnn_optimizers/all_sgd.png)\n",
    "\n",
    "Adam only:\n",
    "\n",
    "![](images/ffnn_optimizers/all_adam.png)"
   ],
   "metadata": {
    "collapsed": false
   }
  },
  {
   "cell_type": "markdown",
   "source": [
    "We see that SGD performs much worse than Adam, which is something expected, because SGD is a more simple algorithm than Adam.\n",
    "\n",
    "What is very interesting are spikes with SGD optimizer:\n",
    "\n",
    "![](images/ffnn_optimizers/SGD_spikes.png)"
   ],
   "metadata": {
    "collapsed": false
   }
  },
  {
   "cell_type": "markdown",
   "source": [
    "Dropout is 0.0 in both groups - spiky and nom-spiky. The only difference between spiky and non-spiky is batch-size - in spiky it is 256, in non-spiky 2048. This is very interesting, because first impression may be that the absence of dropout caused spikes, but the second non-spiky group, which is without dropout too, is smooth. One of the reasons may be that the model just gets into some special parameter landscape, where with SGD it bounces back and forth in some kind of \"ravine\". \n",
    "\n",
    "Now, let's find out the best model - model with the least validation loss:"
   ],
   "metadata": {
    "collapsed": false
   }
  },
  {
   "cell_type": "code",
   "outputs": [
    {
     "data": {
      "text/plain": "log_name           2024-05-13_19:28:57_bs=2048,d=0.1,e=30,hl=4,hs...\ntag                                                  ffnn_optimizers\nhidden_size                                                      256\nhidden_layers                                                      4\nepochs                                                            24\nbatch_size                                                      2048\ntrain_loss                                                   0.39997\ntrain_acc                                                   0.854159\nval_loss                                                    0.435735\nval_acc                                                     0.841286\nweight_decay                                                    0.01\nlabel_smoothing                                                  NaN\ndropout                                                          0.1\noptimizer                                                       Adam\nName: 4593, dtype: object"
     },
     "execution_count": 168,
     "metadata": {},
     "output_type": "execute_result"
    }
   ],
   "source": [
    "df_results = pd.read_csv(\"logs/results.csv\")\n",
    "best_model_index = df_results['val_loss'].idxmin()\n",
    "df_results.loc[best_model_index]"
   ],
   "metadata": {
    "collapsed": false,
    "ExecuteTime": {
     "end_time": "2024-05-13T18:19:37.482894Z",
     "start_time": "2024-05-13T18:19:37.470790Z"
    }
   },
   "execution_count": 168
  },
  {
   "cell_type": "markdown",
   "source": [
    "### Normalization/Standardization experiments"
   ],
   "metadata": {
    "collapsed": false
   }
  },
  {
   "cell_type": "markdown",
   "source": [
    "How we will try normalization and standardization. \n",
    "\n",
    "Normalization and standardization techniques are very useful when we have model that uses distance metrics and data are not scaled identically, so some features can dominate over the others.\n",
    "\n",
    "But in our case pixels have the same scale, so standardization or normalization may have no significant impact on our model. \n",
    "But for the sake of exploration and curiosity, we will try normalization and standardization and also play a little bit around the best model's hyperparameters:"
   ],
   "metadata": {
    "collapsed": false
   }
  },
  {
   "cell_type": "code",
   "outputs": [],
   "source": [
    "def prepare_torch_dataset(X_train, y_train, X_val, y_val, normalization=\"none\"):\n",
    "    scaler = None\n",
    "    if normalization == \"minmax\":\n",
    "        scaler = MinMaxScaler()\n",
    "    elif normalization == \"standardization\":\n",
    "        scaler = StandardScaler()\n",
    "\n",
    "    if scaler:\n",
    "        X_train_transformed = scaler.fit_transform(X_train)\n",
    "        X_val_transformed = scaler.transform(X_val)\n",
    "    else:\n",
    "        X_train_transformed = X_train.to_numpy()\n",
    "        X_val_transformed = X_val.to_numpy()\n",
    "\n",
    "    train_data = torch.utils.data.TensorDataset(torch.tensor(X_train_transformed, dtype=torch.float32),\n",
    "                                                torch.tensor(y_train.to_numpy()))\n",
    "    val_data = torch.utils.data.TensorDataset(torch.tensor(X_val_transformed, dtype=torch.float32),\n",
    "                                              torch.tensor(y_val.to_numpy()))\n",
    "\n",
    "    return train_data, val_data"
   ],
   "metadata": {
    "collapsed": false,
    "ExecuteTime": {
     "end_time": "2024-05-13T18:50:46.666458Z",
     "start_time": "2024-05-13T18:50:46.661427Z"
    }
   },
   "execution_count": 187
  },
  {
   "cell_type": "code",
   "outputs": [
    {
     "name": "stdout",
     "output_type": "stream",
     "text": [
      "Hyperparameter space size:  48\n"
     ]
    }
   ],
   "source": [
    "hparams = {\n",
    "    \"hidden_size\": [128, 256],\n",
    "    \"hidden_layers\": [3, 4],\n",
    "    \"epochs\": [30],\n",
    "    \"batch_size\": [2048],\n",
    "    \"weight_decay\": [1e-2, 1e-1],\n",
    "    \"dropout\": [0.1, 0.2],\n",
    "    \"optimizer\": [\"Adam\"],\n",
    "    \"label_smoothing\": [0.0],\n",
    "    \"normalization\": [\"none\", \"minmax\", \"standardization\"]\n",
    "}\n",
    "\n",
    "hparams_grid = ParameterGrid(hparams)\n",
    "print(\"Hyperparameter space size: \", len(hparams_grid))"
   ],
   "metadata": {
    "collapsed": false,
    "ExecuteTime": {
     "end_time": "2024-05-13T18:50:48.697732Z",
     "start_time": "2024-05-13T18:50:48.694317Z"
    }
   },
   "execution_count": 188
  },
  {
   "cell_type": "code",
   "outputs": [
    {
     "name": "stderr",
     "output_type": "stream",
     "text": [
      "100%|██████████| 48/48 [28:07<00:00, 35.15s/it]\n"
     ]
    }
   ],
   "source": [
    "for params in tqdm(hparams_grid, total=len(hparams_grid)):\n",
    "    train_data, val_data = prepare_torch_dataset(X_train, y_train, X_val, y_val, normalization=params['normalization'])\n",
    "    csv_exporter = CSVExporter(list(hparams.keys()))\n",
    "    train(NeuralNetwork, train_data, val_data, tag=\"ffnn_normalization\", disable_output=True,\n",
    "          print_summary=False, csv_exporter=csv_exporter, **params)\n",
    "    csv_exporter.save()"
   ],
   "metadata": {
    "collapsed": false,
    "ExecuteTime": {
     "end_time": "2024-05-13T19:18:59.987866Z",
     "start_time": "2024-05-13T18:50:52.879905Z"
    }
   },
   "execution_count": 189
  },
  {
   "cell_type": "markdown",
   "source": [
    "Without normalization:\n",
    "![](images/ffnn_normalization/all_none.png)\n",
    "\n",
    "MinMax normalization:\n",
    "\n",
    "![](images/ffnn_normalization/all_minmax.png)\n",
    "\n",
    "Standardization:\n",
    "\n",
    "![](images/ffnn_normalization/all_standardization.png)"
   ],
   "metadata": {
    "collapsed": false
   }
  },
  {
   "cell_type": "markdown",
   "source": [
    "Though we expected that normalization will not have significant impact, clearly we see, that normalization has negative effect. Reasons why it is that may be different, for example numerical, with ReLu activation function, or more probably with weight decay.\n",
    "\n",
    "Let's test if weight decay somehow creates this issue:"
   ],
   "metadata": {
    "collapsed": false
   }
  },
  {
   "cell_type": "code",
   "outputs": [
    {
     "name": "stdout",
     "output_type": "stream",
     "text": [
      "Hyperparameter space size:  12\n"
     ]
    }
   ],
   "source": [
    "hparams = {\n",
    "    \"hidden_size\": [256],\n",
    "    \"hidden_layers\": [4],\n",
    "    \"epochs\": [30],\n",
    "    \"batch_size\": [2048],\n",
    "    \"weight_decay\": [0.0, 1e-1, 1e-2, 1e-3],\n",
    "    \"dropout\": [0.1],\n",
    "    \"optimizer\": [\"Adam\"],\n",
    "    \"label_smoothing\": [0.0],\n",
    "    \"normalization\": [\"none\", \"minmax\", \"standardization\"]\n",
    "}\n",
    "\n",
    "hparams_grid = ParameterGrid(hparams)\n",
    "print(\"Hyperparameter space size: \", len(hparams_grid))"
   ],
   "metadata": {
    "collapsed": false,
    "ExecuteTime": {
     "end_time": "2024-05-13T19:47:38.416068Z",
     "start_time": "2024-05-13T19:47:38.412751Z"
    }
   },
   "execution_count": 192
  },
  {
   "cell_type": "code",
   "outputs": [
    {
     "name": "stderr",
     "output_type": "stream",
     "text": [
      "100%|██████████| 12/12 [08:35<00:00, 42.93s/it]\n"
     ]
    }
   ],
   "source": [
    "for params in tqdm(hparams_grid, total=len(hparams_grid)):\n",
    "    train_data, val_data = prepare_torch_dataset(X_train, y_train, X_val, y_val, normalization=params['normalization'])\n",
    "    csv_exporter = CSVExporter(list(hparams.keys()))\n",
    "    train(NeuralNetwork, train_data, val_data, tag=\"ffnn_normalization/weight_decay_test\", disable_output=True,\n",
    "          print_summary=False, csv_exporter=csv_exporter, **params)\n",
    "    csv_exporter.save()"
   ],
   "metadata": {
    "collapsed": false,
    "ExecuteTime": {
     "end_time": "2024-05-13T19:56:15.430759Z",
     "start_time": "2024-05-13T19:47:40.256582Z"
    }
   },
   "execution_count": 193
  },
  {
   "cell_type": "markdown",
   "source": [
    "weight decay = 0.0:\n",
    "\n",
    "![](images/ffnn_normalization/weight_decay_test/all_no_wd.png)\n",
    "\n",
    "weight_decay = 0.1:\n",
    "\n",
    "![](images/ffnn_normalization/weight_decay_test/all_wd_0.1.png)"
   ],
   "metadata": {
    "collapsed": false
   }
  },
  {
   "cell_type": "markdown",
   "source": [
    "This is very interesting, we see that with normalization the weight decay = 0.1 significantly affects loss and accuracy, while without normalization the scores are not affected so significantly."
   ],
   "metadata": {
    "collapsed": false
   }
  },
  {
   "cell_type": "markdown",
   "source": [
    "# Convolutional Neural Network"
   ],
   "metadata": {
    "collapsed": false
   }
  },
  {
   "cell_type": "markdown",
   "source": [
    "TODO"
   ],
   "metadata": {
    "collapsed": false
   }
  },
  {
   "cell_type": "code",
   "outputs": [],
   "source": [
    "# TODO"
   ],
   "metadata": {
    "collapsed": false
   }
  },
  {
   "cell_type": "markdown",
   "source": [
    "# Evaluation"
   ],
   "metadata": {
    "collapsed": false
   }
  },
  {
   "cell_type": "markdown",
   "source": [
    "TODO"
   ],
   "metadata": {
    "collapsed": false
   }
  },
  {
   "cell_type": "code",
   "outputs": [],
   "source": [
    "# TODO"
   ],
   "metadata": {
    "collapsed": false
   }
  }
 ],
 "metadata": {
  "kernelspec": {
   "display_name": "Python 3 (ipykernel)",
   "language": "python",
   "name": "python3"
  },
  "language_info": {
   "codemirror_mode": {
    "name": "ipython",
    "version": 3
   },
   "file_extension": ".py",
   "mimetype": "text/x-python",
   "name": "python",
   "nbconvert_exporter": "python",
   "pygments_lexer": "ipython3",
   "version": "3.10.11"
  }
 },
 "nbformat": 4,
 "nbformat_minor": 4
}
